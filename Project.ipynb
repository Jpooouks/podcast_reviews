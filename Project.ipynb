{
 "cells": [
  {
   "cell_type": "markdown",
   "id": "985bd278-3ab1-4d50-bbf0-d4f24366e8a3",
   "metadata": {},
   "source": [
    "# Podcast Reviews Project"
   ]
  },
  {
   "cell_type": "markdown",
   "id": "215b8699-2271-47cf-b489-7886b992555f",
   "metadata": {},
   "source": [
    "# Objectives"
   ]
  },
  {
   "cell_type": "markdown",
   "id": "06c5b62c-c05b-45fd-8168-c9706d948705",
   "metadata": {},
   "source": [
    "The objective for this project is two-fold:\n",
    "- Explore sample and its features utilising typical EDA methods.\n",
    "- Raise hypotheses about the broader population, which the sample represents, and establish possibly significant results."
   ]
  },
  {
   "cell_type": "markdown",
   "id": "32fa1642-903d-404f-a423-3a7770966a3d",
   "metadata": {},
   "source": [
    "## Imports"
   ]
  },
  {
   "cell_type": "code",
   "execution_count": 1,
   "id": "470bd172-4a37-41b2-a974-9bec8e91cb70",
   "metadata": {},
   "outputs": [],
   "source": [
    "import pandas as pd\n",
    "import numpy as np\n",
    "import matplotlib.pyplot as plt\n",
    "import seaborn as sns\n",
    "import sqlite3\n",
    "import scipy.stats as stats\n",
    "import scikit_posthocs as sp\n",
    "import statsmodels.api as sm"
   ]
  },
  {
   "cell_type": "markdown",
   "id": "1e937be1-d2c5-4ef9-bc37-e972e9e7f14c",
   "metadata": {},
   "source": [
    "## Tables"
   ]
  },
  {
   "cell_type": "code",
   "execution_count": 2,
   "id": "09cc2ec3-eed6-407b-8150-6d3f45143098",
   "metadata": {},
   "outputs": [
    {
     "name": "stdout",
     "output_type": "stream",
     "text": [
      "['runs', 'podcasts', 'categories', 'reviews']\n"
     ]
    }
   ],
   "source": [
    "with sqlite3.connect('database.sqlite') as con:\n",
    "    print(list(pd.read_sql_query(\n",
    "        \"select name from sqlite_master where type='table';\", con)['name']))"
   ]
  },
  {
   "cell_type": "markdown",
   "id": "31ab1ad1-cac5-4b3c-be5e-771b2a1b0c58",
   "metadata": {},
   "source": [
    "## Columns"
   ]
  },
  {
   "cell_type": "code",
   "execution_count": 3,
   "id": "08011328-89a0-4c2b-9a4c-af48e801de15",
   "metadata": {},
   "outputs": [
    {
     "name": "stdout",
     "output_type": "stream",
     "text": [
      "runs table: ['run_at', 'max_rowid', 'reviews_added']\n",
      " podcasts table: ['podcast_id', 'itunes_id', 'slug', 'itunes_url', 'title']\n",
      " categories table: ['podcast_id', 'category']\n",
      " reviews table: ['podcast_id', 'title', 'content', 'rating', 'author_id', 'created_at']\n"
     ]
    }
   ],
   "source": [
    "print(*list(f'{i} table: {list(pd.read_sql_query(f\"select * from {i} limit 0\", con).columns)}'\n",
    "        for i in 'runs, podcasts, categories, reviews'.split(',')), sep='\\n')"
   ]
  },
  {
   "cell_type": "markdown",
   "id": "699a9baf-c1a6-4356-b6dc-a31d76ed7293",
   "metadata": {},
   "source": [
    "## Reading the Data"
   ]
  },
  {
   "cell_type": "code",
   "execution_count": 4,
   "id": "b64d2367-d970-4299-bc0f-8dc31f099054",
   "metadata": {},
   "outputs": [],
   "source": [
    "categories = pd.read_sql_query(\n",
    "    \"\"\"select *\n",
    "    from categories\n",
    "    \"\"\", con)"
   ]
  },
  {
   "cell_type": "code",
   "execution_count": 5,
   "id": "9e53e003-d9e5-4e0d-8f86-f2edd3d239ed",
   "metadata": {},
   "outputs": [],
   "source": [
    "df = pd.read_sql_query(\n",
    "    \"\"\"select \n",
    "    r.podcast_id, r.title review_title, r.content, r.rating, r.created_at,\n",
    "    p.title podcast_title    \n",
    "    from reviews r\n",
    "    join podcasts p\n",
    "    on r.podcast_id = p.podcast_id\n",
    "    \"\"\", con)"
   ]
  },
  {
   "cell_type": "code",
   "execution_count": 6,
   "id": "c793e438-b282-4725-9507-310f1451f38c",
   "metadata": {},
   "outputs": [
    {
     "data": {
      "text/plain": [
       "1113461    ٢٠٢٠-١٢-٢٤T٠٨:٢٦:٣٦-07:00\n",
       "1113462    ٢٠٢٠-١٢-٢٤T١١:٥٥:٠٨-07:00\n",
       "Name: created_at, dtype: object"
      ]
     },
     "execution_count": 6,
     "metadata": {},
     "output_type": "execute_result"
    }
   ],
   "source": [
    "df['created_at'][~df['created_at'].apply(lambda x: x.isascii())]"
   ]
  },
  {
   "cell_type": "markdown",
   "id": "8e2bfaf7-361c-42dd-9f03-d89559048600",
   "metadata": {},
   "source": [
    "These two dates contain eastern arabic numerals."
   ]
  },
  {
   "cell_type": "code",
   "execution_count": 7,
   "id": "76a3ed7d-482e-47e0-8dc5-9a4a97235a4c",
   "metadata": {},
   "outputs": [],
   "source": [
    "def convert_eastern_arabic_to_western_arabic(input_str: str) -> str:\n",
    "    if not input_str.isascii():  \n",
    "        arabic_to_western = str.maketrans('٠١٢٣٤٥٦٧٨٩', '0123456789')\n",
    "        return input_str.translate(arabic_to_western)\n",
    "    return input_str"
   ]
  },
  {
   "cell_type": "code",
   "execution_count": 8,
   "id": "eddfc61a-77b6-4564-a730-749e535dc1fc",
   "metadata": {},
   "outputs": [],
   "source": [
    "df['created_at'] = df['created_at'].apply(convert_eastern_arabic_to_western_arabic)\n",
    "df['created_at'] = pd.to_datetime(df['created_at'], format='ISO8601')\n",
    "df['rating'] = df['rating'].astype('float')"
   ]
  },
  {
   "cell_type": "code",
   "execution_count": 9,
   "id": "73912a46-692e-4762-82c7-57239db6bfaa",
   "metadata": {},
   "outputs": [
    {
     "data": {
      "text/html": [
       "<div>\n",
       "<style scoped>\n",
       "    .dataframe tbody tr th:only-of-type {\n",
       "        vertical-align: middle;\n",
       "    }\n",
       "\n",
       "    .dataframe tbody tr th {\n",
       "        vertical-align: top;\n",
       "    }\n",
       "\n",
       "    .dataframe thead th {\n",
       "        text-align: right;\n",
       "    }\n",
       "</style>\n",
       "<table border=\"1\" class=\"dataframe\">\n",
       "  <thead>\n",
       "    <tr style=\"text-align: right;\">\n",
       "      <th></th>\n",
       "      <th>podcast_id</th>\n",
       "      <th>review_title</th>\n",
       "      <th>content</th>\n",
       "      <th>rating</th>\n",
       "      <th>created_at</th>\n",
       "      <th>podcast_title</th>\n",
       "    </tr>\n",
       "  </thead>\n",
       "  <tbody>\n",
       "    <tr>\n",
       "      <th>0</th>\n",
       "      <td>c61aa81c9b929a66f0c1db6cbe5d8548</td>\n",
       "      <td>really interesting!</td>\n",
       "      <td>Thanks for providing these insights.  Really e...</td>\n",
       "      <td>5.0</td>\n",
       "      <td>2018-04-24 12:05:16-07:00</td>\n",
       "      <td>Backstage at Tilles Center</td>\n",
       "    </tr>\n",
       "    <tr>\n",
       "      <th>1</th>\n",
       "      <td>c61aa81c9b929a66f0c1db6cbe5d8548</td>\n",
       "      <td>Must listen for anyone interested in the arts!!!</td>\n",
       "      <td>Super excited to see this podcast grow. So man...</td>\n",
       "      <td>5.0</td>\n",
       "      <td>2018-05-09 18:14:32-07:00</td>\n",
       "      <td>Backstage at Tilles Center</td>\n",
       "    </tr>\n",
       "    <tr>\n",
       "      <th>2</th>\n",
       "      <td>ad4f2bf69c72b8db75978423c25f379e</td>\n",
       "      <td>nauseatingly left</td>\n",
       "      <td>I'm a liberal myself, but its pretty obvious a...</td>\n",
       "      <td>1.0</td>\n",
       "      <td>2019-06-11 14:53:39-07:00</td>\n",
       "      <td>TED Talks Daily</td>\n",
       "    </tr>\n",
       "    <tr>\n",
       "      <th>3</th>\n",
       "      <td>ad4f2bf69c72b8db75978423c25f379e</td>\n",
       "      <td>Diverse stories</td>\n",
       "      <td>I find Tedx talks very inspirational but I oft...</td>\n",
       "      <td>5.0</td>\n",
       "      <td>2018-05-31 13:08:09-07:00</td>\n",
       "      <td>TED Talks Daily</td>\n",
       "    </tr>\n",
       "    <tr>\n",
       "      <th>4</th>\n",
       "      <td>ad4f2bf69c72b8db75978423c25f379e</td>\n",
       "      <td>👍👍👍👍</td>\n",
       "      <td>I love this podcast, it is so good.</td>\n",
       "      <td>5.0</td>\n",
       "      <td>2019-06-19 13:56:05-07:00</td>\n",
       "      <td>TED Talks Daily</td>\n",
       "    </tr>\n",
       "  </tbody>\n",
       "</table>\n",
       "</div>"
      ],
      "text/plain": [
       "                         podcast_id  \\\n",
       "0  c61aa81c9b929a66f0c1db6cbe5d8548   \n",
       "1  c61aa81c9b929a66f0c1db6cbe5d8548   \n",
       "2  ad4f2bf69c72b8db75978423c25f379e   \n",
       "3  ad4f2bf69c72b8db75978423c25f379e   \n",
       "4  ad4f2bf69c72b8db75978423c25f379e   \n",
       "\n",
       "                                       review_title  \\\n",
       "0                               really interesting!   \n",
       "1  Must listen for anyone interested in the arts!!!   \n",
       "2                                 nauseatingly left   \n",
       "3                                   Diverse stories   \n",
       "4                                              👍👍👍👍   \n",
       "\n",
       "                                             content  rating  \\\n",
       "0  Thanks for providing these insights.  Really e...     5.0   \n",
       "1  Super excited to see this podcast grow. So man...     5.0   \n",
       "2  I'm a liberal myself, but its pretty obvious a...     1.0   \n",
       "3  I find Tedx talks very inspirational but I oft...     5.0   \n",
       "4                I love this podcast, it is so good.     5.0   \n",
       "\n",
       "                 created_at               podcast_title  \n",
       "0 2018-04-24 12:05:16-07:00  Backstage at Tilles Center  \n",
       "1 2018-05-09 18:14:32-07:00  Backstage at Tilles Center  \n",
       "2 2019-06-11 14:53:39-07:00             TED Talks Daily  \n",
       "3 2018-05-31 13:08:09-07:00             TED Talks Daily  \n",
       "4 2019-06-19 13:56:05-07:00             TED Talks Daily  "
      ]
     },
     "execution_count": 9,
     "metadata": {},
     "output_type": "execute_result"
    }
   ],
   "source": [
    "df.head(5)"
   ]
  },
  {
   "cell_type": "markdown",
   "id": "475b3acc-6fc7-4dd9-960b-4be14c68f7d8",
   "metadata": {},
   "source": [
    "# Data Validation"
   ]
  },
  {
   "cell_type": "markdown",
   "id": "52e25205-ef19-4b62-b321-63fe282b1dd1",
   "metadata": {},
   "source": [
    "## Duplicated Data"
   ]
  },
  {
   "cell_type": "code",
   "execution_count": 10,
   "id": "ca6c2823-2b78-48b5-a568-0c4c12a8ce40",
   "metadata": {},
   "outputs": [
    {
     "data": {
      "text/plain": [
       "1516"
      ]
     },
     "execution_count": 10,
     "metadata": {},
     "output_type": "execute_result"
    }
   ],
   "source": [
    "duplicated_rows = df[df[['review_title', 'content', 'rating', 'podcast_title']].duplicated()]\n",
    "len(duplicated_rows)"
   ]
  },
  {
   "cell_type": "code",
   "execution_count": 11,
   "id": "c5fb9c43-e09a-4e5d-bcfa-9c3853bc199a",
   "metadata": {},
   "outputs": [],
   "source": [
    "df.drop(duplicated_rows.index, inplace=True)"
   ]
  },
  {
   "cell_type": "markdown",
   "id": "2b178a9c-e25e-4aba-8e7c-b7b2fcbe5a1f",
   "metadata": {},
   "source": [
    "## Outliers"
   ]
  },
  {
   "cell_type": "markdown",
   "id": "23e0dea7-9ac2-40cc-af90-b126f9c90280",
   "metadata": {},
   "source": [
    "There are no numeric features in this dataset where possible outliers would need to be handled."
   ]
  },
  {
   "cell_type": "markdown",
   "id": "42be73b7-ada4-4030-b162-6b3fbc18a0e1",
   "metadata": {},
   "source": [
    "## Missing Values"
   ]
  },
  {
   "cell_type": "code",
   "execution_count": 12,
   "id": "d799afe3-2007-4d15-8e46-a24eb7606c2b",
   "metadata": {},
   "outputs": [
    {
     "data": {
      "text/plain": [
       "False"
      ]
     },
     "execution_count": 12,
     "metadata": {},
     "output_type": "execute_result"
    }
   ],
   "source": [
    "df.isna().any().any()"
   ]
  },
  {
   "cell_type": "markdown",
   "id": "c83b5139-2491-49d6-afa6-81111d4719aa",
   "metadata": {},
   "source": [
    "# EDA"
   ]
  },
  {
   "cell_type": "markdown",
   "id": "2eb5719e-7efe-4af3-8a81-c8234417139d",
   "metadata": {},
   "source": [
    "## Aggregating Categories"
   ]
  },
  {
   "cell_type": "markdown",
   "id": "6502266a-5db2-43ee-9161-1d8d287dd279",
   "metadata": {},
   "source": [
    "There are categories that contain multiple sub-categories as well as multiple category entries which have the same podcast id, therefore some aggregation needs to be done."
   ]
  },
  {
   "cell_type": "code",
   "execution_count": 13,
   "id": "cfd44bb7-abb0-4d47-9243-98758df7346c",
   "metadata": {},
   "outputs": [
    {
     "name": "stdout",
     "output_type": "stream",
     "text": [
      "['arts', 'arts-performing-arts', 'music', 'arts-design', 'education', 'society-culture', 'arts-visual-arts', 'leisure', 'leisure-hobbies', 'arts-books', 'technology', 'society-culture-personal-journals', 'society-culture-relationships', 'fiction', 'fiction-science-fiction', 'arts-food', 'education-language-learning', 'fiction-drama', 'true-crime', 'health-fitness', 'health-fitness-nutrition', 'history', 'comedy', 'arts-fashion-beauty', 'tv-film', 'society-culture-places-travel', 'comedy-comedy-interviews', 'kids-family', 'health-fitness-mental-health', 'religion-spirituality', 'business', 'news', 'news-business-news', 'education-courses', 'society-culture-philosophy', 'leisure-video-games', 'tv-film-film-reviews', 'leisure-games', 'spirituality', 'tv-film-film-history', 'business-careers', 'business-entrepreneurship', 'science', 'science-earth-sciences', 'comedy-improv', 'tv-film-tv-reviews', 'health-fitness-sexuality', 'news-politics', 'leisure-home-garden', 'leisure-animation-manga', 'fiction-comedy-fiction', 'christianity', 'government', 'sports', 'hinduism', 'music-music-commentary', 'business-marketing', 'music-music-interviews', 'education-how-to', 'science-social-sciences', 'society-culture-documentary', 'business-management', 'news-tech-news', 'education-self-improvement', 'sports-wilderness', 'health-fitness-alternative-health', 'health-fitness-medicine', 'leisure-crafts', 'business-investing', 'science-natural-sciences', 'science-nature', 'tv-film-after-shows', 'sports-soccer', 'leisure-automotive', 'kids-family-pets-animals', 'judaism', 'religion', 'sports-football', 'kids-family-parenting', 'health-fitness-fitness', 'news-entertainment-news', 'news-daily-news', 'kids-family-stories-for-kids', 'tv-film-film-interviews', 'music-music-history', 'science-life-sciences', 'comedy-stand-up', 'leisure-aviation', 'sports-golf', 'business-non-profit', 'islam', 'news-news-commentary', 'news-sports-news', 'sports-basketball', 'sports-baseball', 'sports-fantasy-sports', 'kids-family-education-for-kids', 'science-astronomy', 'science-physics', 'science-chemistry', 'sports-running', 'sports-wrestling', 'buddhism', 'sports-swimming', 'sports-tennis', 'science-mathematics', 'sports-hockey', 'sports-volleyball', 'sports-rugby', 'sports-cricket']\n"
     ]
    }
   ],
   "source": [
    "unique_categories = pd.Series(categories['category'].unique())\n",
    "print(list(unique_categories))"
   ]
  },
  {
   "cell_type": "code",
   "execution_count": 14,
   "id": "f2cf7c1b-9a2a-41d7-9834-7f240f14b4e9",
   "metadata": {},
   "outputs": [],
   "source": [
    "broader_cat_list = ['comedy', 'business', 'spirituality', 'sports',\n",
    "                    'health', 'arts', 'music', 'education', 'science', 'kids', 'technology', 'news', 'culture', 'film', 'leisure']\n",
    "pattern = '|'.join(broader_cat_list)"
   ]
  },
  {
   "cell_type": "code",
   "execution_count": 15,
   "id": "09bb37c2-f095-4c1e-b9cc-4dc82e104538",
   "metadata": {},
   "outputs": [
    {
     "data": {
      "text/plain": [
       "13           fiction\n",
       "17     fiction-drama\n",
       "18        true-crime\n",
       "21           history\n",
       "51      christianity\n",
       "52        government\n",
       "54          hinduism\n",
       "75           judaism\n",
       "76          religion\n",
       "90             islam\n",
       "102         buddhism\n",
       "dtype: object"
      ]
     },
     "execution_count": 15,
     "metadata": {},
     "output_type": "execute_result"
    }
   ],
   "source": [
    "unique_categories[~unique_categories.str.contains(pattern)]"
   ]
  },
  {
   "cell_type": "code",
   "execution_count": 16,
   "id": "20acf6dd-4b9c-407b-83cd-23911864cbf7",
   "metadata": {},
   "outputs": [],
   "source": [
    "def aggregate_categories(entry: str) -> str:\n",
    "    for comparison in ['fiction', 'drama', 'true-crime']:\n",
    "        if comparison in entry:   \n",
    "            return 'film'\n",
    "    if 'history' in entry:\n",
    "        return 'education'\n",
    "    elif entry.endswith('ism') or ('religion' in entry \n",
    "           or 'islam' in entry \n",
    "           or 'christianity' in entry):\n",
    "        return 'spirituality'\n",
    "    elif 'government' in entry:\n",
    "        return 'news'\n",
    "    else:\n",
    "        for i in broader_cat_list:\n",
    "            if i in entry:\n",
    "                return i"
   ]
  },
  {
   "cell_type": "code",
   "execution_count": 17,
   "id": "2654cb51-b2b5-4851-94c8-7792d4c86b9a",
   "metadata": {},
   "outputs": [
    {
     "data": {
      "text/plain": [
       "False"
      ]
     },
     "execution_count": 17,
     "metadata": {},
     "output_type": "execute_result"
    }
   ],
   "source": [
    "categories['aggregated_category'] = categories['category'].apply(aggregate_categories)\n",
    "categories['aggregated_category'].isna().any()"
   ]
  },
  {
   "cell_type": "code",
   "execution_count": 18,
   "id": "3ad1b2aa-a518-4f1b-ad85-e8451051cf6b",
   "metadata": {},
   "outputs": [],
   "source": [
    "categories.drop('category', axis=1, inplace=True)"
   ]
  },
  {
   "cell_type": "code",
   "execution_count": 19,
   "id": "0e821c9d-249d-4912-abe3-813eea48fda2",
   "metadata": {},
   "outputs": [
    {
     "data": {
      "text/plain": [
       "70871"
      ]
     },
     "execution_count": 19,
     "metadata": {},
     "output_type": "execute_result"
    }
   ],
   "source": [
    "len(categories) - len(categories.drop_duplicates())"
   ]
  },
  {
   "cell_type": "code",
   "execution_count": 20,
   "id": "d563531f-9f9e-44c6-aee6-2d54931cab16",
   "metadata": {},
   "outputs": [],
   "source": [
    "categories.drop_duplicates(inplace=True)"
   ]
  },
  {
   "cell_type": "code",
   "execution_count": 21,
   "id": "358ccca0-682b-4a1c-911b-e94665f441d7",
   "metadata": {},
   "outputs": [
    {
     "data": {
      "text/html": [
       "<div>\n",
       "<style scoped>\n",
       "    .dataframe tbody tr th:only-of-type {\n",
       "        vertical-align: middle;\n",
       "    }\n",
       "\n",
       "    .dataframe tbody tr th {\n",
       "        vertical-align: top;\n",
       "    }\n",
       "\n",
       "    .dataframe thead th {\n",
       "        text-align: right;\n",
       "    }\n",
       "</style>\n",
       "<table border=\"1\" class=\"dataframe\">\n",
       "  <thead>\n",
       "    <tr style=\"text-align: right;\">\n",
       "      <th></th>\n",
       "      <th>podcast_id</th>\n",
       "      <th>aggregated_category</th>\n",
       "    </tr>\n",
       "  </thead>\n",
       "  <tbody>\n",
       "    <tr>\n",
       "      <th>0</th>\n",
       "      <td>c61aa81c9b929a66f0c1db6cbe5d8548</td>\n",
       "      <td>arts</td>\n",
       "    </tr>\n",
       "    <tr>\n",
       "      <th>2</th>\n",
       "      <td>c61aa81c9b929a66f0c1db6cbe5d8548</td>\n",
       "      <td>music</td>\n",
       "    </tr>\n",
       "    <tr>\n",
       "      <th>3</th>\n",
       "      <td>ad4f2bf69c72b8db75978423c25f379e</td>\n",
       "      <td>arts</td>\n",
       "    </tr>\n",
       "    <tr>\n",
       "      <th>5</th>\n",
       "      <td>ad4f2bf69c72b8db75978423c25f379e</td>\n",
       "      <td>education</td>\n",
       "    </tr>\n",
       "    <tr>\n",
       "      <th>6</th>\n",
       "      <td>ad4f2bf69c72b8db75978423c25f379e</td>\n",
       "      <td>culture</td>\n",
       "    </tr>\n",
       "    <tr>\n",
       "      <th>...</th>\n",
       "      <td>...</td>\n",
       "      <td>...</td>\n",
       "    </tr>\n",
       "    <tr>\n",
       "      <th>212366</th>\n",
       "      <td>e10afe12558725e31e08f3e5ebe53c5f</td>\n",
       "      <td>sports</td>\n",
       "    </tr>\n",
       "    <tr>\n",
       "      <th>212367</th>\n",
       "      <td>da8331a8fbbba6fe1e2653f2fa86e168</td>\n",
       "      <td>news</td>\n",
       "    </tr>\n",
       "    <tr>\n",
       "      <th>212369</th>\n",
       "      <td>da8331a8fbbba6fe1e2653f2fa86e168</td>\n",
       "      <td>science</td>\n",
       "    </tr>\n",
       "    <tr>\n",
       "      <th>212370</th>\n",
       "      <td>d41b3b7b2413fcf202d8bef1512554dc</td>\n",
       "      <td>spirituality</td>\n",
       "    </tr>\n",
       "    <tr>\n",
       "      <th>212371</th>\n",
       "      <td>f22336d184d0c448c63a143abf5a83ab</td>\n",
       "      <td>arts</td>\n",
       "    </tr>\n",
       "  </tbody>\n",
       "</table>\n",
       "<p>141501 rows × 2 columns</p>\n",
       "</div>"
      ],
      "text/plain": [
       "                              podcast_id aggregated_category\n",
       "0       c61aa81c9b929a66f0c1db6cbe5d8548                arts\n",
       "2       c61aa81c9b929a66f0c1db6cbe5d8548               music\n",
       "3       ad4f2bf69c72b8db75978423c25f379e                arts\n",
       "5       ad4f2bf69c72b8db75978423c25f379e           education\n",
       "6       ad4f2bf69c72b8db75978423c25f379e             culture\n",
       "...                                  ...                 ...\n",
       "212366  e10afe12558725e31e08f3e5ebe53c5f              sports\n",
       "212367  da8331a8fbbba6fe1e2653f2fa86e168                news\n",
       "212369  da8331a8fbbba6fe1e2653f2fa86e168             science\n",
       "212370  d41b3b7b2413fcf202d8bef1512554dc        spirituality\n",
       "212371  f22336d184d0c448c63a143abf5a83ab                arts\n",
       "\n",
       "[141501 rows x 2 columns]"
      ]
     },
     "execution_count": 21,
     "metadata": {},
     "output_type": "execute_result"
    }
   ],
   "source": [
    "categories"
   ]
  },
  {
   "cell_type": "markdown",
   "id": "21a77bed-f7da-44f0-a049-444eb546e2b2",
   "metadata": {},
   "source": [
    "Now that the categories are aggregated and deduped, it's time to merge them into the main DataFrame."
   ]
  },
  {
   "cell_type": "code",
   "execution_count": 22,
   "id": "5ffb157c-37bb-4b4a-9f74-e860e1620f37",
   "metadata": {},
   "outputs": [],
   "source": [
    "df_w_categories = df.merge(categories, on='podcast_id', validate='many_to_many')"
   ]
  },
  {
   "cell_type": "code",
   "execution_count": 23,
   "id": "af85f3a6-1f01-4c02-9286-89a6a1850750",
   "metadata": {},
   "outputs": [
    {
     "data": {
      "text/html": [
       "<div>\n",
       "<style scoped>\n",
       "    .dataframe tbody tr th:only-of-type {\n",
       "        vertical-align: middle;\n",
       "    }\n",
       "\n",
       "    .dataframe tbody tr th {\n",
       "        vertical-align: top;\n",
       "    }\n",
       "\n",
       "    .dataframe thead th {\n",
       "        text-align: right;\n",
       "    }\n",
       "</style>\n",
       "<table border=\"1\" class=\"dataframe\">\n",
       "  <thead>\n",
       "    <tr style=\"text-align: right;\">\n",
       "      <th></th>\n",
       "      <th>podcast_id</th>\n",
       "      <th>review_title</th>\n",
       "      <th>content</th>\n",
       "      <th>rating</th>\n",
       "      <th>created_at</th>\n",
       "      <th>podcast_title</th>\n",
       "      <th>aggregated_category</th>\n",
       "    </tr>\n",
       "  </thead>\n",
       "  <tbody>\n",
       "    <tr>\n",
       "      <th>0</th>\n",
       "      <td>c61aa81c9b929a66f0c1db6cbe5d8548</td>\n",
       "      <td>really interesting!</td>\n",
       "      <td>Thanks for providing these insights.  Really e...</td>\n",
       "      <td>5.0</td>\n",
       "      <td>2018-04-24 12:05:16-07:00</td>\n",
       "      <td>Backstage at Tilles Center</td>\n",
       "      <td>arts</td>\n",
       "    </tr>\n",
       "    <tr>\n",
       "      <th>1</th>\n",
       "      <td>c61aa81c9b929a66f0c1db6cbe5d8548</td>\n",
       "      <td>really interesting!</td>\n",
       "      <td>Thanks for providing these insights.  Really e...</td>\n",
       "      <td>5.0</td>\n",
       "      <td>2018-04-24 12:05:16-07:00</td>\n",
       "      <td>Backstage at Tilles Center</td>\n",
       "      <td>music</td>\n",
       "    </tr>\n",
       "    <tr>\n",
       "      <th>2</th>\n",
       "      <td>c61aa81c9b929a66f0c1db6cbe5d8548</td>\n",
       "      <td>Must listen for anyone interested in the arts!!!</td>\n",
       "      <td>Super excited to see this podcast grow. So man...</td>\n",
       "      <td>5.0</td>\n",
       "      <td>2018-05-09 18:14:32-07:00</td>\n",
       "      <td>Backstage at Tilles Center</td>\n",
       "      <td>arts</td>\n",
       "    </tr>\n",
       "    <tr>\n",
       "      <th>3</th>\n",
       "      <td>c61aa81c9b929a66f0c1db6cbe5d8548</td>\n",
       "      <td>Must listen for anyone interested in the arts!!!</td>\n",
       "      <td>Super excited to see this podcast grow. So man...</td>\n",
       "      <td>5.0</td>\n",
       "      <td>2018-05-09 18:14:32-07:00</td>\n",
       "      <td>Backstage at Tilles Center</td>\n",
       "      <td>music</td>\n",
       "    </tr>\n",
       "    <tr>\n",
       "      <th>4</th>\n",
       "      <td>ad4f2bf69c72b8db75978423c25f379e</td>\n",
       "      <td>nauseatingly left</td>\n",
       "      <td>I'm a liberal myself, but its pretty obvious a...</td>\n",
       "      <td>1.0</td>\n",
       "      <td>2019-06-11 14:53:39-07:00</td>\n",
       "      <td>TED Talks Daily</td>\n",
       "      <td>arts</td>\n",
       "    </tr>\n",
       "  </tbody>\n",
       "</table>\n",
       "</div>"
      ],
      "text/plain": [
       "                         podcast_id  \\\n",
       "0  c61aa81c9b929a66f0c1db6cbe5d8548   \n",
       "1  c61aa81c9b929a66f0c1db6cbe5d8548   \n",
       "2  c61aa81c9b929a66f0c1db6cbe5d8548   \n",
       "3  c61aa81c9b929a66f0c1db6cbe5d8548   \n",
       "4  ad4f2bf69c72b8db75978423c25f379e   \n",
       "\n",
       "                                       review_title  \\\n",
       "0                               really interesting!   \n",
       "1                               really interesting!   \n",
       "2  Must listen for anyone interested in the arts!!!   \n",
       "3  Must listen for anyone interested in the arts!!!   \n",
       "4                                 nauseatingly left   \n",
       "\n",
       "                                             content  rating  \\\n",
       "0  Thanks for providing these insights.  Really e...     5.0   \n",
       "1  Thanks for providing these insights.  Really e...     5.0   \n",
       "2  Super excited to see this podcast grow. So man...     5.0   \n",
       "3  Super excited to see this podcast grow. So man...     5.0   \n",
       "4  I'm a liberal myself, but its pretty obvious a...     1.0   \n",
       "\n",
       "                 created_at               podcast_title aggregated_category  \n",
       "0 2018-04-24 12:05:16-07:00  Backstage at Tilles Center                arts  \n",
       "1 2018-04-24 12:05:16-07:00  Backstage at Tilles Center               music  \n",
       "2 2018-05-09 18:14:32-07:00  Backstage at Tilles Center                arts  \n",
       "3 2018-05-09 18:14:32-07:00  Backstage at Tilles Center               music  \n",
       "4 2019-06-11 14:53:39-07:00             TED Talks Daily                arts  "
      ]
     },
     "execution_count": 23,
     "metadata": {},
     "output_type": "execute_result"
    }
   ],
   "source": [
    "df_w_categories.head(5)"
   ]
  },
  {
   "cell_type": "markdown",
   "id": "94eeacbe-a187-4deb-a45d-5dd5954150ac",
   "metadata": {},
   "source": [
    "Some podcasts had multiple categories assigned to them."
   ]
  },
  {
   "cell_type": "markdown",
   "id": "4463b678-77da-4e84-aa10-faf1fb553eac",
   "metadata": {},
   "source": [
    "## Number of Podcasts"
   ]
  },
  {
   "cell_type": "code",
   "execution_count": 24,
   "id": "77149bf6-3b1f-4859-9573-dd7ce6b611e5",
   "metadata": {},
   "outputs": [
    {
     "data": {
      "text/plain": [
       "109274"
      ]
     },
     "execution_count": 24,
     "metadata": {},
     "output_type": "execute_result"
    }
   ],
   "source": [
    "len(df.podcast_title.unique())"
   ]
  },
  {
   "cell_type": "markdown",
   "id": "5a67a453-00cf-471f-88fa-9763de7538b2",
   "metadata": {},
   "source": [
    "## Overall Rating Distribution"
   ]
  },
  {
   "cell_type": "markdown",
   "id": "3236fc76-0ae5-4c57-9c65-dc51f3a3eed6",
   "metadata": {},
   "source": [
    "How are the ratings distributed in this sample?"
   ]
  },
  {
   "cell_type": "code",
   "execution_count": 25,
   "id": "f114f436-cb46-4bde-9bb9-f6851738a185",
   "metadata": {},
   "outputs": [
    {
     "data": {
      "image/png": "[encoded data removed]",
      "text/plain": [
       "<Figure size 2000x600 with 1 Axes>"
      ]
     },
     "metadata": {},
     "output_type": "display_data"
    }
   ],
   "source": [
    "fig, ax = plt.subplots(figsize=(20,6))\n",
    "bars = ax.bar(df.rating.value_counts().index,\n",
    "        df.rating.value_counts().values, alpha=0.7)\n",
    "ax.spines[['top','left','right']].set_visible(False)\n",
    "ax.yaxis.set_major_formatter(plt.NullFormatter())\n",
    "ax.yaxis.set_major_locator(plt.NullLocator())\n",
    "for bar in bars:\n",
    "    yval = bar.get_height()\n",
    "    ax.text(bar.get_x() + bar.get_width() / 2, yval, f'{yval/1E3} ({round((yval/len(df))*100, 2)}‰)',\n",
    "            verticalalignment='bottom',  \n",
    "            ha='center')\n",
    "ax.set_title('The distribution of ratings (in thousands) and the corresponding proportion (rounded).')\n",
    "ax.set_xlabel('Rating');"
   ]
  },
  {
   "cell_type": "markdown",
   "id": "3774a14f-1272-4c35-819c-f85a013eb336",
   "metadata": {},
   "source": [
    "The ratings in this sample are predominantly positive."
   ]
  },
  {
   "cell_type": "markdown",
   "id": "718225a1-fe01-416c-bbaf-872135c328e2",
   "metadata": {},
   "source": [
    "## Mean Rating Across Time"
   ]
  },
  {
   "cell_type": "markdown",
   "id": "bb4e7c24-8047-499f-ba57-d7f660925b43",
   "metadata": {},
   "source": [
    "How did the mean rating evolve over time?"
   ]
  },
  {
   "cell_type": "code",
   "execution_count": 26,
   "id": "5583c57d-0873-4f7d-9350-e09abc5c05df",
   "metadata": {},
   "outputs": [],
   "source": [
    "df['month'] = df['created_at'].dt.month\n",
    "df['year'] = df['created_at'].dt.year"
   ]
  },
  {
   "cell_type": "code",
   "execution_count": 27,
   "id": "5145ef66-4187-4bde-9db3-9f2619926b15",
   "metadata": {},
   "outputs": [
    {
     "data": {
      "text/plain": [
       "(Timestamp('2005-12-09 21:41:01-0700', tz='UTC-07:00'),\n",
       " Timestamp('2023-02-16 08:38:37-0700', tz='UTC-07:00'))"
      ]
     },
     "execution_count": 27,
     "metadata": {},
     "output_type": "execute_result"
    }
   ],
   "source": [
    "df.created_at.min(), df.created_at.max()"
   ]
  },
  {
   "cell_type": "markdown",
   "id": "290f0b2e-df26-4300-b2c5-d4ea18980534",
   "metadata": {},
   "source": [
    "Data for years 2005 and 2023 is incomplete."
   ]
  },
  {
   "cell_type": "code",
   "execution_count": 28,
   "id": "cdcb6212-a4c4-4dbb-9801-02ecae05a3a8",
   "metadata": {},
   "outputs": [
    {
     "data": {
      "text/html": [
       "<div>\n",
       "<style scoped>\n",
       "    .dataframe tbody tr th:only-of-type {\n",
       "        vertical-align: middle;\n",
       "    }\n",
       "\n",
       "    .dataframe tbody tr th {\n",
       "        vertical-align: top;\n",
       "    }\n",
       "\n",
       "    .dataframe thead th {\n",
       "        text-align: right;\n",
       "    }\n",
       "</style>\n",
       "<table border=\"1\" class=\"dataframe\">\n",
       "  <thead>\n",
       "    <tr style=\"text-align: right;\">\n",
       "      <th></th>\n",
       "      <th>0</th>\n",
       "      <th>1</th>\n",
       "      <th>2</th>\n",
       "      <th>3</th>\n",
       "      <th>4</th>\n",
       "      <th>5</th>\n",
       "      <th>6</th>\n",
       "      <th>7</th>\n",
       "      <th>8</th>\n",
       "      <th>9</th>\n",
       "      <th>...</th>\n",
       "      <th>197</th>\n",
       "      <th>198</th>\n",
       "      <th>199</th>\n",
       "      <th>200</th>\n",
       "      <th>201</th>\n",
       "      <th>202</th>\n",
       "      <th>203</th>\n",
       "      <th>204</th>\n",
       "      <th>205</th>\n",
       "      <th>206</th>\n",
       "    </tr>\n",
       "  </thead>\n",
       "  <tbody>\n",
       "    <tr>\n",
       "      <th>year</th>\n",
       "      <td>2005.000000</td>\n",
       "      <td>2006.000000</td>\n",
       "      <td>2006.000000</td>\n",
       "      <td>2006.000000</td>\n",
       "      <td>2006.000000</td>\n",
       "      <td>2006.000000</td>\n",
       "      <td>2006.000000</td>\n",
       "      <td>2006.000000</td>\n",
       "      <td>2006.000000</td>\n",
       "      <td>2006.000000</td>\n",
       "      <td>...</td>\n",
       "      <td>2022.000000</td>\n",
       "      <td>2022.000000</td>\n",
       "      <td>2022.00000</td>\n",
       "      <td>2022.000000</td>\n",
       "      <td>2022.000000</td>\n",
       "      <td>2022.000000</td>\n",
       "      <td>2022.000</td>\n",
       "      <td>2022.000000</td>\n",
       "      <td>2023.000000</td>\n",
       "      <td>2023.000000</td>\n",
       "    </tr>\n",
       "    <tr>\n",
       "      <th>month</th>\n",
       "      <td>12.000000</td>\n",
       "      <td>1.000000</td>\n",
       "      <td>2.000000</td>\n",
       "      <td>3.000000</td>\n",
       "      <td>4.000000</td>\n",
       "      <td>5.000000</td>\n",
       "      <td>6.000000</td>\n",
       "      <td>7.000000</td>\n",
       "      <td>8.000000</td>\n",
       "      <td>9.000000</td>\n",
       "      <td>...</td>\n",
       "      <td>5.000000</td>\n",
       "      <td>6.000000</td>\n",
       "      <td>7.00000</td>\n",
       "      <td>8.000000</td>\n",
       "      <td>9.000000</td>\n",
       "      <td>10.000000</td>\n",
       "      <td>11.000</td>\n",
       "      <td>12.000000</td>\n",
       "      <td>1.000000</td>\n",
       "      <td>2.000000</td>\n",
       "    </tr>\n",
       "    <tr>\n",
       "      <th>rating</th>\n",
       "      <td>4.791667</td>\n",
       "      <td>4.712538</td>\n",
       "      <td>4.753125</td>\n",
       "      <td>4.602888</td>\n",
       "      <td>4.544061</td>\n",
       "      <td>4.566787</td>\n",
       "      <td>4.520737</td>\n",
       "      <td>4.331897</td>\n",
       "      <td>4.577519</td>\n",
       "      <td>4.533074</td>\n",
       "      <td>...</td>\n",
       "      <td>4.525489</td>\n",
       "      <td>4.473339</td>\n",
       "      <td>4.42528</td>\n",
       "      <td>4.478893</td>\n",
       "      <td>4.468159</td>\n",
       "      <td>4.470241</td>\n",
       "      <td>4.439</td>\n",
       "      <td>4.435055</td>\n",
       "      <td>4.453514</td>\n",
       "      <td>4.388344</td>\n",
       "    </tr>\n",
       "  </tbody>\n",
       "</table>\n",
       "<p>3 rows × 207 columns</p>\n",
       "</div>"
      ],
      "text/plain": [
       "                0            1            2            3            4    \\\n",
       "year    2005.000000  2006.000000  2006.000000  2006.000000  2006.000000   \n",
       "month     12.000000     1.000000     2.000000     3.000000     4.000000   \n",
       "rating     4.791667     4.712538     4.753125     4.602888     4.544061   \n",
       "\n",
       "                5            6            7            8            9    ...  \\\n",
       "year    2006.000000  2006.000000  2006.000000  2006.000000  2006.000000  ...   \n",
       "month      5.000000     6.000000     7.000000     8.000000     9.000000  ...   \n",
       "rating     4.566787     4.520737     4.331897     4.577519     4.533074  ...   \n",
       "\n",
       "                197          198         199          200          201  \\\n",
       "year    2022.000000  2022.000000  2022.00000  2022.000000  2022.000000   \n",
       "month      5.000000     6.000000     7.00000     8.000000     9.000000   \n",
       "rating     4.525489     4.473339     4.42528     4.478893     4.468159   \n",
       "\n",
       "                202       203          204          205          206  \n",
       "year    2022.000000  2022.000  2022.000000  2023.000000  2023.000000  \n",
       "month     10.000000    11.000    12.000000     1.000000     2.000000  \n",
       "rating     4.470241     4.439     4.435055     4.453514     4.388344  \n",
       "\n",
       "[3 rows x 207 columns]"
      ]
     },
     "execution_count": 28,
     "metadata": {},
     "output_type": "execute_result"
    }
   ],
   "source": [
    "grouped = df.groupby(['year','month'], as_index=False)['rating'].mean()\n",
    "grouped.T"
   ]
  },
  {
   "cell_type": "code",
   "execution_count": 29,
   "id": "c097fd86-3281-4f11-954d-a1a111245e80",
   "metadata": {},
   "outputs": [],
   "source": [
    "grouped['date'] = pd.to_datetime(grouped[['year', 'month']].assign(DAY=1))"
   ]
  },
  {
   "cell_type": "code",
   "execution_count": 30,
   "id": "60eae9fe-d5d0-4c6f-b991-08e2f1a78e3a",
   "metadata": {},
   "outputs": [
    {
     "data": {
      "image/png": "[encoded data removed]",
      "text/plain": [
       "<Figure size 2000x500 with 1 Axes>"
      ]
     },
     "metadata": {},
     "output_type": "display_data"
    }
   ],
   "source": [
    "grouped.set_index('date').plot(y='rating',\n",
    "                               figsize=(20,5), ylim=(1,5), legend=False)\n",
    "ax = plt.gca()\n",
    "ax.set_title('Monthly mean ratings from December of Year 2005 to February 2023.')\n",
    "ax.spines[['top', 'right']].set_visible(False)\n",
    "ax.set_ylabel('Rating')\n",
    "ax.set_xlabel('Year');"
   ]
  },
  {
   "cell_type": "markdown",
   "id": "bf0a1558-8ac5-4cde-b014-e9e1ef17c8b5",
   "metadata": {},
   "source": [
    "The differences between monthly means within a year tend to decrease. This is probably due to the increasing popularity of podcasts which means a greater amount of total reviews per month, therefore making the jumps between months less volatile."
   ]
  },
  {
   "cell_type": "markdown",
   "id": "4a0581a5-473b-4d48-9718-d8c54dbb19ac",
   "metadata": {},
   "source": [
    "## Correlation of Rating and Comment Length"
   ]
  },
  {
   "cell_type": "markdown",
   "id": "58bc6256-2f3b-45d5-aa99-b0cf390b77f6",
   "metadata": {},
   "source": [
    "Is the length of the comment content related to the rating itself. In other words is large/small comment length predictive of the sentiment expressed by rating."
   ]
  },
  {
   "cell_type": "code",
   "execution_count": 31,
   "id": "fc157eaf-26e0-47c8-9b41-15ecf4a8ddb4",
   "metadata": {},
   "outputs": [
    {
     "data": {
      "text/plain": [
       "-0.09744192231838818"
      ]
     },
     "execution_count": 31,
     "metadata": {},
     "output_type": "execute_result"
    }
   ],
   "source": [
    "np.corrcoef(df.rating, df.content.str.len())[1, 0]"
   ]
  },
  {
   "cell_type": "markdown",
   "id": "2e3f066d-30e3-4829-8223-58813ad273ab",
   "metadata": {},
   "source": [
    "Extreamely weak negative correlation. Likely no specific association."
   ]
  },
  {
   "cell_type": "markdown",
   "id": "fe13b05d-1db4-4c6c-8867-55d808bc0128",
   "metadata": {},
   "source": [
    "## Most Rated Categories"
   ]
  },
  {
   "cell_type": "markdown",
   "id": "fc489a72-d9f8-48a1-856c-f78ecac6d141",
   "metadata": {},
   "source": [
    "Which categories are the most/least rated?"
   ]
  },
  {
   "cell_type": "code",
   "execution_count": 32,
   "id": "3395d74e-dfc0-44e3-86e4-78fe48bc5607",
   "metadata": {},
   "outputs": [
    {
     "data": {
      "image/png": "[encoded data removed]",
      "text/plain": [
       "<Figure size 2000x800 with 1 Axes>"
      ]
     },
     "metadata": {},
     "output_type": "display_data"
    }
   ],
   "source": [
    "(df_w_categories\n",
    " .aggregated_category\n",
    " .value_counts(normalize=True)\n",
    " .mul(100)\n",
    " .plot(kind='barh', figsize=(20,8), alpha=0.7)\n",
    ")\n",
    "ax = plt.gca()\n",
    "ax.set_xlabel('Percent')\n",
    "ax.set_ylabel('Category')\n",
    "ax.set_title('Proportions of Reviewed Podcast Categories (percent)')\n",
    "ax.spines[['top','right']].set_visible(False)\n",
    "ax.set_yticks(ticks=plt.yticks()[0],\n",
    "labels=[label.get_text().capitalize() for label in ax.get_yticklabels()]);"
   ]
  },
  {
   "cell_type": "markdown",
   "id": "1e61ffb0-b566-481c-b4d4-55e3a2533b8d",
   "metadata": {},
   "source": [
    "Culture category seems to be the most reviewed, while Science the least. This is probably due to overall category viewer base."
   ]
  },
  {
   "cell_type": "markdown",
   "id": "7376adf2-b001-47dd-984b-85d6584adb2a",
   "metadata": {},
   "source": [
    "## Mean Rating per Category"
   ]
  },
  {
   "cell_type": "markdown",
   "id": "af068c08-ce7c-44c8-a743-aaf1f97a7d9f",
   "metadata": {},
   "source": [
    "What is the mean rating for each category?"
   ]
  },
  {
   "cell_type": "code",
   "execution_count": 33,
   "id": "bceb2bce-af42-4764-ba83-9e2dd97f72ce",
   "metadata": {},
   "outputs": [
    {
     "data": {
      "image/png": "[encoded data removed]",
      "text/plain": [
       "<Figure size 2000x800 with 1 Axes>"
      ]
     },
     "metadata": {},
     "output_type": "display_data"
    }
   ],
   "source": [
    "(df_w_categories\n",
    " .groupby('aggregated_category')['rating']\n",
    " .mean()\n",
    " .sort_values(ascending=False)\n",
    " .plot(kind='barh', figsize=(20,8), alpha=0.7)\n",
    ")\n",
    "ax = plt.gca()\n",
    "ax.set_xlabel('Mean')\n",
    "ax.set_ylabel('Category')\n",
    "ax.set_title('Mean Ratings per Category')\n",
    "ax.spines[['top','right']].set_visible(False)\n",
    "ax.set_yticks(ticks=plt.yticks()[0],\n",
    "labels=[label.get_text().capitalize() for label in ax.get_yticklabels()]);"
   ]
  },
  {
   "cell_type": "markdown",
   "id": "69b761b7-dbbb-4966-8a83-0929a735da35",
   "metadata": {},
   "source": [
    "News category has the lowest mean rating, while, interestingly, the Business category has the highest. In the case of the News category, one likely explanation would be the politically charged polarizing topics often discussed in these podcasts."
   ]
  },
  {
   "cell_type": "markdown",
   "id": "fd173498-f4f8-4b09-a450-3dcd7c9a8fd2",
   "metadata": {},
   "source": [
    "## Mean Comment Length per Category"
   ]
  },
  {
   "cell_type": "markdown",
   "id": "8ccb9f58-679a-47eb-8c91-0f8e543f4628",
   "metadata": {},
   "source": [
    "What is the mean comment length given the category?"
   ]
  },
  {
   "cell_type": "code",
   "execution_count": 34,
   "id": "739f9119-17aa-48e6-a0f1-8739f47f1d6e",
   "metadata": {},
   "outputs": [
    {
     "data": {
      "image/png": "[encoded data removed]",
      "text/plain": [
       "<Figure size 2000x800 with 1 Axes>"
      ]
     },
     "metadata": {},
     "output_type": "display_data"
    }
   ],
   "source": [
    "(df_w_categories\n",
    " .assign(comment_length=df_w_categories['content'].str.len())\n",
    " .groupby('aggregated_category')['comment_length']\n",
    " .mean()\n",
    " .sort_values(ascending=False)\n",
    " .plot(kind='barh', figsize=(20,8), alpha=0.7)\n",
    ")\n",
    "ax = plt.gca()\n",
    "ax.set_xlabel('Mean Length')\n",
    "ax.set_ylabel('Category')\n",
    "ax.set_title('Mean Comment Length per Category')\n",
    "ax.spines[['top','right']].set_visible(False)\n",
    "ax.set_xlim(0,300)\n",
    "ax.set_yticks(ticks=plt.yticks()[0],\n",
    "labels=[label.get_text().capitalize() for label in ax.get_yticklabels()]);"
   ]
  },
  {
   "cell_type": "markdown",
   "id": "bdd5c510-5f6b-4507-8ffd-6054d90c6899",
   "metadata": {},
   "source": [
    "Music and Health categories have the largest lengths."
   ]
  },
  {
   "cell_type": "markdown",
   "id": "260be9b5-5442-4600-94da-dd718609a306",
   "metadata": {},
   "source": [
    "## Most Rated Podcasts"
   ]
  },
  {
   "cell_type": "markdown",
   "id": "30e0fef1-23ac-473d-a70f-6f949752c120",
   "metadata": {},
   "source": [
    "Which of the podcasts have the highest rating activity?"
   ]
  },
  {
   "cell_type": "code",
   "execution_count": null,
   "id": "9c98cfd8-432f-4d3a-9894-200594f114f2",
   "metadata": {},
   "outputs": [],
   "source": [
    "(df\n",
    " .groupby('podcast_title')\n",
    " .rating\n",
    " .count()\n",
    " .sort_values(ascending=False)\n",
    " .head(10)\n",
    " .plot(kind='barh', figsize=(20,6))\n",
    ")\n",
    "ax = plt.gca()\n",
    "ax.set_xlim(0,3.5E4)\n",
    "ax.set_title('Most Rated Podcasts')\n",
    "ax.set_ylabel('Podcast Title')\n",
    "ax.set_xlabel('Number of Reviews')\n",
    "ax.spines[['top','right']].set_visible(False);"
   ]
  },
  {
   "cell_type": "markdown",
   "id": "04fc3dd0-8ccc-4b67-9cf6-52303201169a",
   "metadata": {},
   "source": [
    "The Crime Junkie podcast has overwhelmingly more reviews posted than the rest of the podcasts."
   ]
  },
  {
   "cell_type": "markdown",
   "id": "285a313e-1532-4db1-8b1c-66129c24c859",
   "metadata": {},
   "source": [
    "## Highest/Lowest Rated Popular Podcasts"
   ]
  },
  {
   "cell_type": "markdown",
   "id": "791009ac-4620-48fa-b30f-4e7b66a612d4",
   "metadata": {},
   "source": [
    "Assuming that the number of reviews left in this sample correlate with popularity, let's set the threshold of a popular podcast at 1000 reviews."
   ]
  },
  {
   "cell_type": "code",
   "execution_count": 36,
   "id": "ac4eb68f-12a5-441e-a1fc-69a4269db413",
   "metadata": {},
   "outputs": [],
   "source": [
    "over_1000_review_means = (\n",
    " df\n",
    " .groupby('podcast_title')\n",
    " .filter(lambda x: len(x) >= 1_000)\n",
    " .groupby('podcast_title')\n",
    " .rating\n",
    " .mean()\n",
    " .sort_values(ascending=False)\n",
    ")"
   ]
  },
  {
   "cell_type": "code",
   "execution_count": 37,
   "id": "3ab329f9-5aa6-4797-aa1f-31aeeb89de2c",
   "metadata": {},
   "outputs": [
    {
     "data": {
      "text/html": [
       "<div>\n",
       "<style scoped>\n",
       "    .dataframe tbody tr th:only-of-type {\n",
       "        vertical-align: middle;\n",
       "    }\n",
       "\n",
       "    .dataframe tbody tr th {\n",
       "        vertical-align: top;\n",
       "    }\n",
       "\n",
       "    .dataframe thead th {\n",
       "        text-align: right;\n",
       "    }\n",
       "</style>\n",
       "<table border=\"1\" class=\"dataframe\">\n",
       "  <thead>\n",
       "    <tr style=\"text-align: right;\">\n",
       "      <th>podcast_title</th>\n",
       "      <th>Sassy Lashes</th>\n",
       "      <th>Shawn Ryan Show</th>\n",
       "      <th>Daebak Show w/ Eric Nam</th>\n",
       "      <th>Know Your Aura with Mystic Michaela</th>\n",
       "      <th>Biceps After Babies Radio</th>\n",
       "      <th>BASS TALK LIVE</th>\n",
       "      <th>Andrea Savage: A Grown-Up Woman #buttholes</th>\n",
       "      <th>Ali on the Run Show</th>\n",
       "      <th>Fantastic Geeks</th>\n",
       "      <th>Ghostrunners</th>\n",
       "    </tr>\n",
       "  </thead>\n",
       "  <tbody>\n",
       "    <tr>\n",
       "      <th>rating</th>\n",
       "      <td>4.99305</td>\n",
       "      <td>4.990962</td>\n",
       "      <td>4.984244</td>\n",
       "      <td>4.983574</td>\n",
       "      <td>4.981279</td>\n",
       "      <td>4.960585</td>\n",
       "      <td>4.957736</td>\n",
       "      <td>4.955224</td>\n",
       "      <td>4.951415</td>\n",
       "      <td>4.950181</td>\n",
       "    </tr>\n",
       "  </tbody>\n",
       "</table>\n",
       "</div>"
      ],
      "text/plain": [
       "podcast_title  Sassy Lashes  Shawn Ryan Show  Daebak Show w/ Eric Nam  \\\n",
       "rating              4.99305         4.990962                 4.984244   \n",
       "\n",
       "podcast_title  Know Your Aura with Mystic Michaela  Biceps After Babies Radio  \\\n",
       "rating                                    4.983574                   4.981279   \n",
       "\n",
       "podcast_title  BASS TALK LIVE  Andrea Savage: A Grown-Up Woman #buttholes  \\\n",
       "rating               4.960585                                    4.957736   \n",
       "\n",
       "podcast_title  Ali on the Run Show  Fantastic Geeks  Ghostrunners  \n",
       "rating                    4.955224         4.951415      4.950181  "
      ]
     },
     "execution_count": 37,
     "metadata": {},
     "output_type": "execute_result"
    }
   ],
   "source": [
    "pd.DataFrame(over_1000_review_means.head(10)).T"
   ]
  },
  {
   "cell_type": "code",
   "execution_count": 38,
   "id": "e8bd015e-3ee1-42b1-85bf-b09ff0ad1d85",
   "metadata": {},
   "outputs": [
    {
     "data": {
      "text/html": [
       "<div>\n",
       "<style scoped>\n",
       "    .dataframe tbody tr th:only-of-type {\n",
       "        vertical-align: middle;\n",
       "    }\n",
       "\n",
       "    .dataframe tbody tr th {\n",
       "        vertical-align: top;\n",
       "    }\n",
       "\n",
       "    .dataframe thead th {\n",
       "        text-align: right;\n",
       "    }\n",
       "</style>\n",
       "<table border=\"1\" class=\"dataframe\">\n",
       "  <thead>\n",
       "    <tr style=\"text-align: right;\">\n",
       "      <th>podcast_title</th>\n",
       "      <th>Morning Joe</th>\n",
       "      <th>The Argument</th>\n",
       "      <th>Radiolab</th>\n",
       "      <th>The Daily</th>\n",
       "      <th>Pod Save America</th>\n",
       "      <th>Off The Vine with Kaitlyn Bristowe</th>\n",
       "      <th>Fantasy Focus Football</th>\n",
       "      <th>Cold Case Files</th>\n",
       "      <th>The Fighter &amp; The Kid</th>\n",
       "      <th>The Ben and Ashley I Almost Famous Podcast</th>\n",
       "    </tr>\n",
       "  </thead>\n",
       "  <tbody>\n",
       "    <tr>\n",
       "      <th>rating</th>\n",
       "      <td>3.360859</td>\n",
       "      <td>3.35089</td>\n",
       "      <td>3.346952</td>\n",
       "      <td>3.343874</td>\n",
       "      <td>3.288116</td>\n",
       "      <td>3.286064</td>\n",
       "      <td>3.273579</td>\n",
       "      <td>2.966284</td>\n",
       "      <td>2.764513</td>\n",
       "      <td>2.762897</td>\n",
       "    </tr>\n",
       "  </tbody>\n",
       "</table>\n",
       "</div>"
      ],
      "text/plain": [
       "podcast_title  Morning Joe  The Argument  Radiolab  The Daily  \\\n",
       "rating            3.360859       3.35089  3.346952   3.343874   \n",
       "\n",
       "podcast_title  Pod Save America  Off The Vine with Kaitlyn Bristowe  \\\n",
       "rating                 3.288116                            3.286064   \n",
       "\n",
       "podcast_title  Fantasy Focus Football  Cold Case Files  The Fighter & The Kid  \\\n",
       "rating                       3.273579         2.966284               2.764513   \n",
       "\n",
       "podcast_title  The Ben and Ashley I Almost Famous Podcast  \n",
       "rating                                           2.762897  "
      ]
     },
     "execution_count": 38,
     "metadata": {},
     "output_type": "execute_result"
    }
   ],
   "source": [
    "pd.DataFrame(over_1000_review_means.tail(10)).T"
   ]
  },
  {
   "cell_type": "markdown",
   "id": "7541a12c-944b-40c1-87d6-d8b709ab7b51",
   "metadata": {},
   "source": [
    "Sassy Lashes podcast has the highest mean rating while The Ben and Ashley I Almost Famous Podcast has the lowest."
   ]
  },
  {
   "cell_type": "markdown",
   "id": "3d02a019-fd19-45b5-a5e2-7929ee77b628",
   "metadata": {},
   "source": [
    "# Inference"
   ]
  },
  {
   "cell_type": "markdown",
   "id": "9baae68d-415c-4030-9a45-972084f390e6",
   "metadata": {},
   "source": [
    "## 5 &#x2605; Ratings"
   ]
  },
  {
   "cell_type": "markdown",
   "id": "bda89ada-9673-40a0-8766-944b3002c997",
   "metadata": {},
   "source": [
    "What population proportion of all podcasts(years 2005-2023) get rated 5 stars?.<br>\n",
    "**Population**: All podcasts(years 2005-2023)."
   ]
  },
  {
   "cell_type": "markdown",
   "id": "28ba4f8e-c15e-4579-9d62-8308dc548225",
   "metadata": {},
   "source": [
    "### Assumptions for a Single Population Propotion Confidence Interval:"
   ]
  },
  {
   "cell_type": "markdown",
   "id": "a79641aa-8ccb-4c5e-bf77-c28ce56bd42a",
   "metadata": {},
   "source": [
    "- <div style=\"line-height:1;\">Sample Size - There should be a \"large enough\" sample size. <span style=\"color:green; font-size:30px;\">&#10004;</span></div>\n",
    "- <div style=\"line-height:2.7;\">Simple Random Sample <span style=\"color:red; font-size:15px;\">&#10060;</span></div>"
   ]
  },
  {
   "cell_type": "code",
   "execution_count": 39,
   "id": "6c7e4d2a-a9f5-430d-aef9-cf040f4b5cc2",
   "metadata": {},
   "outputs": [],
   "source": [
    "def binomial_ci(confidence, p_hat, n):\n",
    "    z_score = stats.norm.interval(confidence)[1]\n",
    "    rhs = z_score * np.sqrt(p_hat*(1-p_hat)/n)\n",
    "    ci = [p_hat - rhs, p_hat + rhs]\n",
    "    return ci"
   ]
  },
  {
   "cell_type": "code",
   "execution_count": 40,
   "id": "2d12c69a-0f1f-4497-b218-4a73497f7eb1",
   "metadata": {},
   "outputs": [
    {
     "data": {
      "text/plain": [
       "0.8659469355430381"
      ]
     },
     "execution_count": 40,
     "metadata": {},
     "output_type": "execute_result"
    }
   ],
   "source": [
    "p_hat_rating_5 = len(df['rating'][df['rating'] == 5]) / len(df['rating'])\n",
    "n_rating = len(df['rating'])\n",
    "p_hat_rating_5"
   ]
  },
  {
   "cell_type": "code",
   "execution_count": 41,
   "id": "87286d82-97cd-4367-8d3d-ded75d0dded5",
   "metadata": {},
   "outputs": [
    {
     "data": {
      "text/plain": [
       "[0.8654796013853436, 0.8664142697007327]"
      ]
     },
     "execution_count": 41,
     "metadata": {},
     "output_type": "execute_result"
    }
   ],
   "source": [
    "binomial_ci(0.95, p_hat_rating_5, n_rating)"
   ]
  },
  {
   "cell_type": "markdown",
   "id": "e1a65636-a62f-49a9-99b8-284e4a6246ca",
   "metadata": {},
   "source": [
    "Based on the sample of 2041781 podcast reviews, with 95% confidence, the population proportion of all podcast reviews(years 2005-2023) which hold a 5 star rating, lie between 0.8654796013853436 and 0.8664142697007327. However, it must be noted that the assumption of a simple random sample for this confidence interval is violated since the data was not sampled at random."
   ]
  },
  {
   "cell_type": "markdown",
   "id": "46450758-5f48-4f22-ab78-0015446e4836",
   "metadata": {},
   "source": [
    "## 1 &#x2605; Rating"
   ]
  },
  {
   "cell_type": "markdown",
   "id": "c6a1842a-937a-49d1-bd43-dd54213d6c2e",
   "metadata": {},
   "source": [
    "What population proportion of all podcasts(years 2005-2023) get rated 1 stars?.<br>\n",
    "**Population**: All podcasts(years 2005-2023)."
   ]
  },
  {
   "cell_type": "markdown",
   "id": "1d1a429b-d508-47f9-a549-18ac9e29d223",
   "metadata": {},
   "source": [
    "### Assumptions for a Single Population Propotion Confidence Interval:"
   ]
  },
  {
   "cell_type": "markdown",
   "id": "f9c40ab1-d619-4840-9aac-f5ce17284a6d",
   "metadata": {},
   "source": [
    "- <div style=\"line-height:1;\">Sample Size - There should be a \"large enough\" sample size. <span style=\"color:green; font-size:30px;\">&#10004;</span></div>\n",
    "- <div style=\"line-height:2.7;\">Simple Random Sample <span style=\"color:red; font-size:15px;\">&#10060;</span></div>"
   ]
  },
  {
   "cell_type": "markdown",
   "id": "2998b484-3baa-4ad8-b7e2-4a78d51f4c9b",
   "metadata": {},
   "source": [
    "What proportion of all podcasts (years 2005-2023) get rated 1 star?"
   ]
  },
  {
   "cell_type": "code",
   "execution_count": 42,
   "id": "a4a0e0dd-0708-4d36-b685-bdf263c2c6b1",
   "metadata": {},
   "outputs": [
    {
     "data": {
      "text/plain": [
       "0.05639978038780849"
      ]
     },
     "execution_count": 42,
     "metadata": {},
     "output_type": "execute_result"
    }
   ],
   "source": [
    "p_hat_rating_1 = len(df['rating'][df['rating'] == 1]) / len(df['rating'])\n",
    "p_hat_rating_1"
   ]
  },
  {
   "cell_type": "code",
   "execution_count": 43,
   "id": "c5744c88-6c7c-437e-8768-e3b943be46a9",
   "metadata": {},
   "outputs": [
    {
     "data": {
      "text/plain": [
       "[0.05608335141964617, 0.05671620935597081]"
      ]
     },
     "execution_count": 43,
     "metadata": {},
     "output_type": "execute_result"
    }
   ],
   "source": [
    "binomial_ci(0.95, p_hat_rating_1, n_rating)"
   ]
  },
  {
   "cell_type": "markdown",
   "id": "e2b6b23f-f85c-4327-aa61-ef131b4b41d8",
   "metadata": {},
   "source": [
    "Based on the sample of 2041781 podcast reviews, with 95% confidence, the population proportion of all podcast reviews(years 2005-2023) which hold a 1 star rating, lie between 0.056<span style=\"color:red\">0833</span>5141964617 and 0.056<span style=\"color:red\">7162</span>0935597081. However, it must be noted that the assumption of a simple random sample for this confidence interval is violated since the data was not sampled at random."
   ]
  },
  {
   "cell_type": "markdown",
   "id": "8ec1534a-f316-487e-91cb-8362e424706b",
   "metadata": {},
   "source": [
    "## Mean Rating for All Reviews"
   ]
  },
  {
   "cell_type": "markdown",
   "id": "1f51bc9b-37f1-41ad-9c78-bdaa6e66af59",
   "metadata": {},
   "source": [
    "What is the population mean for all podcasts(years 2005-2023).<br>\n",
    "**Population**: All podcasts(years 2005-2023)."
   ]
  },
  {
   "cell_type": "markdown",
   "id": "65b80991-8768-4819-a535-d120fcab78b3",
   "metadata": {},
   "source": [
    "### Assumptions For Single Population Mean Confidence Interval:"
   ]
  },
  {
   "cell_type": "code",
   "execution_count": 44,
   "id": "70472cce-b785-4bc3-bb0d-420751b9d730",
   "metadata": {},
   "outputs": [
    {
     "data": {
      "image/png": "[encoded data removed]",
      "text/plain": [
       "<Figure size 2000x400 with 1 Axes>"
      ]
     },
     "metadata": {},
     "output_type": "display_data"
    }
   ],
   "source": [
    "fig = sm.qqplot(df['rating'], line ='45')\n",
    "fig.set_size_inches(20, 4)\n",
    "ax = plt.gca()\n",
    "ax.spines[['top','right']].set_visible(False)\n",
    "ax.set_title('QQ plot of podcasts ratings');"
   ]
  },
  {
   "cell_type": "markdown",
   "id": "68d8a0c6-2408-43dd-a9c2-56714c7d91a8",
   "metadata": {},
   "source": [
    "The distribution is non-normal and heavily left-skewed. Since the sample size is very large we should be able to rely on CLT."
   ]
  },
  {
   "cell_type": "markdown",
   "id": "bd8a32fb-a81a-48ab-b154-8e588d436159",
   "metadata": {},
   "source": [
    "- <div style=\"line-height:1;\">Sample size - There should be a \"large enough\" sample size. <span style=\"color:green; font-size:30px;\">&#10004;</span></div>\n",
    "- <div style=\"line-height:2.7;\">Normality (less critical with large sample size). <span style=\"color:red; font-size:15px;\">&#10060;</span></div></div>\n",
    "- <div style=\"line-height:1.4;\">Simple random sample. <span style=\"color:red; font-size:15px;\">&#10060;</span></div>"
   ]
  },
  {
   "cell_type": "markdown",
   "id": "dbb7849e-947f-446d-bc7a-ffbe37d8c0ff",
   "metadata": {},
   "source": [
    "What is the population rating mean of all podcasts (years 2005-2023)?"
   ]
  },
  {
   "cell_type": "code",
   "execution_count": 45,
   "id": "00f0389c-f55c-4bac-8a30-5f20e50015ba",
   "metadata": {},
   "outputs": [],
   "source": [
    "def mean_ci(confidence, x_bar, sigma, n):\n",
    "    z_score = stats.norm.interval(confidence)[1]\n",
    "    sigma_over_root_n = sigma / np.sqrt(n)\n",
    "    ci = [x_bar - z_score * sigma_over_root_n, x_bar + z_score * sigma_over_root_n]\n",
    "    return ci"
   ]
  },
  {
   "cell_type": "code",
   "execution_count": 46,
   "id": "a75a6389-19b7-4a92-808f-73f6bdf047e0",
   "metadata": {},
   "outputs": [],
   "source": [
    "rating_stats = df.rating.describe()"
   ]
  },
  {
   "cell_type": "code",
   "execution_count": 47,
   "id": "9f741b12-4081-4069-b3be-56dddb12a57d",
   "metadata": {},
   "outputs": [
    {
     "data": {
      "text/plain": [
       "[4.625824659124836, 4.628693822534068]"
      ]
     },
     "execution_count": 47,
     "metadata": {},
     "output_type": "execute_result"
    }
   ],
   "source": [
    "mean_ci(0.95, rating_stats['mean'], rating_stats['std'], rating_stats['count'])"
   ]
  },
  {
   "cell_type": "markdown",
   "id": "f6061a4d-e4d1-4180-850b-60c7e8165a2e",
   "metadata": {},
   "source": [
    "Based on the sample of 2041781 podcast reviews, with 95% confidence, the population mean of all podcast reviews (years 2005-2023), lies between 4.62<span style=\"color:red\">5824</span>659124836 and 4.62<span style=\"color:red\">8693</span>822534068. However, it must be noted that the assumption of a simple random sample for this confidence interval is violated since the data was not sampled at random."
   ]
  },
  {
   "cell_type": "markdown",
   "id": "dd3aade6-720f-4af2-89ef-0dd6c5d504f3",
   "metadata": {},
   "source": [
    "### Bootstrapped CI"
   ]
  },
  {
   "cell_type": "markdown",
   "id": "8528b3f6-13e9-4735-b192-2bcbf9c65993",
   "metadata": {},
   "source": [
    "Because the normality assumption was violated for the sake of a robust result in addition to the parametric confidence interval we will do a resampled one where we don't need to assume normality."
   ]
  },
  {
   "cell_type": "code",
   "execution_count": 48,
   "id": "7cf691dc-e611-4a70-890b-0b64b4688b72",
   "metadata": {},
   "outputs": [],
   "source": [
    "bootstrapped_mean_ci = stats.bootstrap((df['rating'].values,), np.mean, n_resamples=1000, method='basic')"
   ]
  },
  {
   "cell_type": "code",
   "execution_count": 49,
   "id": "d939f00a-24ac-4461-8e6d-b91c60066aad",
   "metadata": {},
   "outputs": [
    {
     "data": {
      "text/plain": [
       "ConfidenceInterval(low=4.625746823484007, high=4.628678847045789)"
      ]
     },
     "execution_count": 49,
     "metadata": {},
     "output_type": "execute_result"
    }
   ],
   "source": [
    "bootstrapped_mean_ci.confidence_interval"
   ]
  },
  {
   "cell_type": "markdown",
   "id": "088e753d-99c5-4879-84f5-21f992ccba60",
   "metadata": {},
   "source": [
    "The bootstrapped interval with only 1000 resamples already gives very close results to the parametric one, therefore confirming that everything went fine."
   ]
  },
  {
   "cell_type": "markdown",
   "id": "9f232f78-47d9-4633-9587-010e081022b3",
   "metadata": {},
   "source": [
    "## Mean Rating in Respect to Year"
   ]
  },
  {
   "cell_type": "code",
   "execution_count": 50,
   "id": "15af429c-b012-4ab4-ac47-10fb8ac371f5",
   "metadata": {},
   "outputs": [
    {
     "name": "stdout",
     "output_type": "stream",
     "text": [
      "2005-12-09 to 2005-12-31\n",
      "2006-01-01 to 2006-12-31\n",
      "2007-01-01 to 2007-12-31\n",
      "2008-01-01 to 2008-12-31\n",
      "2009-01-01 to 2009-12-31\n",
      "2010-01-01 to 2010-12-31\n",
      "2011-01-01 to 2011-12-31\n",
      "2012-01-01 to 2012-12-31\n",
      "2013-01-01 to 2013-12-31\n",
      "2014-01-01 to 2014-12-31\n",
      "2015-01-01 to 2015-12-31\n",
      "2016-01-01 to 2016-12-31\n",
      "2017-01-01 to 2017-12-31\n",
      "2018-01-01 to 2018-12-31\n",
      "2019-01-01 to 2019-12-31\n",
      "2020-01-01 to 2020-12-31\n",
      "2021-01-01 to 2021-12-31\n",
      "2022-01-01 to 2022-12-31\n",
      "2023-01-01 to 2023-02-16\n"
     ]
    }
   ],
   "source": [
    "for i in range(df.created_at.dt.year.min(), df.created_at.dt.year.max() +1):\n",
    "    print(df[df.created_at.dt.year==i]['created_at'].dt.date.min(),'to',\n",
    "          df[df.created_at.dt.year==i]['created_at'].dt.date.max())"
   ]
  },
  {
   "cell_type": "markdown",
   "id": "51b711be-df1a-416a-ba71-df3f4413c221",
   "metadata": {},
   "source": [
    "Data for years 2005, and 2023 is missing at large, therefore will not be used."
   ]
  },
  {
   "cell_type": "markdown",
   "id": "c2ca6dd9-6f11-4cba-8916-d945a3aa154c",
   "metadata": {},
   "source": [
    "Sample sizes:"
   ]
  },
  {
   "cell_type": "code",
   "execution_count": 51,
   "id": "731cdabd-43fd-49b3-b45c-1aa65b46427b",
   "metadata": {},
   "outputs": [
    {
     "data": {
      "text/html": [
       "<div>\n",
       "<style scoped>\n",
       "    .dataframe tbody tr th:only-of-type {\n",
       "        vertical-align: middle;\n",
       "    }\n",
       "\n",
       "    .dataframe tbody tr th {\n",
       "        vertical-align: top;\n",
       "    }\n",
       "\n",
       "    .dataframe thead th {\n",
       "        text-align: right;\n",
       "    }\n",
       "</style>\n",
       "<table border=\"1\" class=\"dataframe\">\n",
       "  <thead>\n",
       "    <tr style=\"text-align: right;\">\n",
       "      <th>year</th>\n",
       "      <th>2006</th>\n",
       "      <th>2007</th>\n",
       "      <th>2008</th>\n",
       "      <th>2009</th>\n",
       "      <th>2010</th>\n",
       "      <th>2011</th>\n",
       "      <th>2012</th>\n",
       "      <th>2013</th>\n",
       "      <th>2014</th>\n",
       "      <th>2015</th>\n",
       "      <th>2016</th>\n",
       "      <th>2017</th>\n",
       "      <th>2018</th>\n",
       "      <th>2019</th>\n",
       "      <th>2020</th>\n",
       "      <th>2021</th>\n",
       "      <th>2022</th>\n",
       "    </tr>\n",
       "  </thead>\n",
       "  <tbody>\n",
       "    <tr>\n",
       "      <th>rating</th>\n",
       "      <td>3215</td>\n",
       "      <td>5718</td>\n",
       "      <td>8249</td>\n",
       "      <td>10754</td>\n",
       "      <td>12378</td>\n",
       "      <td>16819</td>\n",
       "      <td>24590</td>\n",
       "      <td>24324</td>\n",
       "      <td>35246</td>\n",
       "      <td>59682</td>\n",
       "      <td>84204</td>\n",
       "      <td>138135</td>\n",
       "      <td>198492</td>\n",
       "      <td>352091</td>\n",
       "      <td>433724</td>\n",
       "      <td>363111</td>\n",
       "      <td>249095</td>\n",
       "    </tr>\n",
       "  </tbody>\n",
       "</table>\n",
       "</div>"
      ],
      "text/plain": [
       "year    2006  2007  2008   2009   2010   2011   2012   2013   2014   2015  \\\n",
       "rating  3215  5718  8249  10754  12378  16819  24590  24324  35246  59682   \n",
       "\n",
       "year     2016    2017    2018    2019    2020    2021    2022  \n",
       "rating  84204  138135  198492  352091  433724  363111  249095  "
      ]
     },
     "execution_count": 51,
     "metadata": {},
     "output_type": "execute_result"
    }
   ],
   "source": [
    "pd.DataFrame(df.groupby('year')['rating'].count()[1:-1]).T"
   ]
  },
  {
   "cell_type": "markdown",
   "id": "e4d8363f-f180-4ab9-b671-9aa62480cd03",
   "metadata": {},
   "source": [
    "### Testing for Difference"
   ]
  },
  {
   "cell_type": "markdown",
   "id": "942070b7-b2d0-49e1-94db-77e2c50d24b7",
   "metadata": {},
   "source": [
    "Are there statistically significant differences between population mean ratings for each year?<br>\n",
    "**Populations**: yearly groups of all podcasts(years 2006-2022)."
   ]
  },
  {
   "cell_type": "code",
   "execution_count": 52,
   "id": "ad050a00-8a52-4ae6-bbd3-d508989ae300",
   "metadata": {},
   "outputs": [],
   "source": [
    "grouped = df[(df['year'] > 2005) & (df['year'] < 2023)].groupby('year')['rating']\n",
    "yearly_groups = [group.to_numpy() for _, group in grouped]"
   ]
  },
  {
   "cell_type": "markdown",
   "id": "350aa5f5-de60-49f6-a62a-e6c98d92f8a6",
   "metadata": {},
   "source": [
    "Similar sample sizes and lot of other assumptions must be met to perform ANOVA test on all years from 2006 to 2022. So the non-parametric equivalent Kruskal-Wallis test will be used which compares the rank means."
   ]
  },
  {
   "cell_type": "markdown",
   "id": "6cb20a16-64f5-4ea0-8fc1-294e7c5be21e",
   "metadata": {},
   "source": [
    "### Assumptions For the Kruskal-Wallice/Dunn's Test:"
   ]
  },
  {
   "cell_type": "markdown",
   "id": "88e4f9ff-7fc3-44fb-8fbe-690795c5eb56",
   "metadata": {},
   "source": [
    "- <div style=\"line-height:1;\">Ordinal Variables - the variable in question should be ordinal or continuous, i.e., have some kind of hierarchy to them.\n",
    "    <span style=\"color:green; font-size:30px;\">&#10004;</span></div>\n",
    "- <div style=\"line-height:1;\">Independence - each group should be independent from the others. <span style=\"color:green; font-size:30px;\">&#10004;</span></div>\n",
    "- <div style=\"line-height:1;\">Sample Size - There should be a \"large enough\" sample size. <span style=\"color:green; font-size:30px;\">&#10004;</span></div>\n",
    "- <div style=\"line-height:2.7;\">Simple Random Sample <span style=\"color:red; font-size:15px;\">&#10060;</span></div>"
   ]
  },
  {
   "cell_type": "markdown",
   "id": "bc75eb88-f753-4595-bdd7-26b32dc7ad61",
   "metadata": {},
   "source": [
    "### Hypotheses/Significance level:"
   ]
  },
  {
   "cell_type": "markdown",
   "id": "b44a3526-e83a-4a87-9e1d-a39d4df28fd4",
   "metadata": {},
   "source": [
    "$$H_0: \\mu_1 =\\mu_2=\\mu_3...\\ (rank\\ means)$$\n",
    "$$H_a: \\mu_1 \\neq \\mu_2 \\neq \\mu_3...\\ (rank\\ means)$$\n",
    "$$\\alpha=0.05$$"
   ]
  },
  {
   "cell_type": "code",
   "execution_count": 53,
   "id": "953656b2-775b-40c4-b8cf-173ba8eccf3e",
   "metadata": {},
   "outputs": [],
   "source": [
    "kruskal_result = stats.kruskal(*yearly_groups)"
   ]
  },
  {
   "cell_type": "code",
   "execution_count": 54,
   "id": "812933b7-8811-45d8-b9ea-4a00fdf85de3",
   "metadata": {},
   "outputs": [
    {
     "name": "stdout",
     "output_type": "stream",
     "text": [
      "\n",
      "H-Statistic: 14227.04720418591, p-value: 0.0\n",
      "\n"
     ]
    }
   ],
   "source": [
    "print(f'\\nH-Statistic: {kruskal_result.statistic}, p-value: {kruskal_result.pvalue}\\n')"
   ]
  },
  {
   "cell_type": "markdown",
   "id": "9260fec7-32bc-420c-b434-5a8176492341",
   "metadata": {},
   "source": [
    "Based on our sample and our p-value, we reject the null hypothesis. In this case, we conclude that there are significant differences between the population rating distributions for years from the year 2006 to 2022. However, it must be noted that the assumption of a simple random sample for this test is violated since the data was not sampled at random."
   ]
  },
  {
   "cell_type": "markdown",
   "id": "d1e20456-5858-4b6a-b4bb-7b0146dfa9ae",
   "metadata": {},
   "source": [
    "### Post-hoc Testing"
   ]
  },
  {
   "cell_type": "markdown",
   "id": "10235e34-e71a-4cc9-a5f0-020163a3af5e",
   "metadata": {},
   "source": [
    "Which pairs of yearly mean ratings differ significantly?\\\n",
    "**Populations**: yearly groups of all podcasts(years 2006-2022).\\\n",
    "The non parametric Dunn's test will be used. This test follows the same assumptions as the Kruskal-Wallis test. The p-value is adjusted according to the conservative Bonferronni correction method.\\\n",
    "$$H_0: \\mu_1 - \\mu_2 = 0\\ (rank\\ means)$$\n",
    "$$H_a: \\mu_1 - \\mu_2 \\neq 0\\ (rank\\ means)$$\n",
    "$$\\alpha = 0.05\\ (for\\ all\\ pairs\\ (adjusted))$$"
   ]
  },
  {
   "cell_type": "code",
   "execution_count": 55,
   "id": "cb969905-1953-49d8-a384-4c7a7fc75bff",
   "metadata": {},
   "outputs": [
    {
     "data": {
      "text/html": [
       "<div>\n",
       "<style scoped>\n",
       "    .dataframe tbody tr th:only-of-type {\n",
       "        vertical-align: middle;\n",
       "    }\n",
       "\n",
       "    .dataframe tbody tr th {\n",
       "        vertical-align: top;\n",
       "    }\n",
       "\n",
       "    .dataframe thead th {\n",
       "        text-align: right;\n",
       "    }\n",
       "</style>\n",
       "<table border=\"1\" class=\"dataframe\">\n",
       "  <thead>\n",
       "    <tr style=\"text-align: right;\">\n",
       "      <th></th>\n",
       "      <th>2006</th>\n",
       "      <th>2007</th>\n",
       "      <th>2008</th>\n",
       "      <th>2009</th>\n",
       "      <th>2010</th>\n",
       "      <th>2011</th>\n",
       "      <th>2012</th>\n",
       "      <th>2013</th>\n",
       "      <th>2014</th>\n",
       "      <th>2015</th>\n",
       "      <th>2016</th>\n",
       "      <th>2017</th>\n",
       "      <th>2018</th>\n",
       "      <th>2019</th>\n",
       "      <th>2020</th>\n",
       "      <th>2021</th>\n",
       "      <th>2022</th>\n",
       "    </tr>\n",
       "  </thead>\n",
       "  <tbody>\n",
       "    <tr>\n",
       "      <th>2006</th>\n",
       "      <td>1.000000</td>\n",
       "      <td>1.000000e+00</td>\n",
       "      <td>1.000000</td>\n",
       "      <td>1.000000</td>\n",
       "      <td>1.689285e-02</td>\n",
       "      <td>2.104593e-08</td>\n",
       "      <td>4.285762e-24</td>\n",
       "      <td>1.096488e-32</td>\n",
       "      <td>3.608950e-67</td>\n",
       "      <td>4.908252e-76</td>\n",
       "      <td>1.690736e-62</td>\n",
       "      <td>5.956452e-62</td>\n",
       "      <td>6.803701e-51</td>\n",
       "      <td>4.752244e-17</td>\n",
       "      <td>1.005767e-16</td>\n",
       "      <td>1.285247e-09</td>\n",
       "      <td>8.841096e-01</td>\n",
       "    </tr>\n",
       "    <tr>\n",
       "      <th>2007</th>\n",
       "      <td>1.000000</td>\n",
       "      <td>1.000000e+00</td>\n",
       "      <td>0.000074</td>\n",
       "      <td>0.000150</td>\n",
       "      <td>3.148783e-13</td>\n",
       "      <td>8.834095e-28</td>\n",
       "      <td>1.362835e-62</td>\n",
       "      <td>9.189356e-80</td>\n",
       "      <td>2.915717e-150</td>\n",
       "      <td>3.971919e-172</td>\n",
       "      <td>2.814051e-147</td>\n",
       "      <td>4.707518e-148</td>\n",
       "      <td>3.647369e-126</td>\n",
       "      <td>2.009012e-53</td>\n",
       "      <td>9.229158e-53</td>\n",
       "      <td>9.878545e-36</td>\n",
       "      <td>1.799454e-11</td>\n",
       "    </tr>\n",
       "    <tr>\n",
       "      <th>2008</th>\n",
       "      <td>1.000000</td>\n",
       "      <td>7.370688e-05</td>\n",
       "      <td>1.000000</td>\n",
       "      <td>1.000000</td>\n",
       "      <td>6.003238e-01</td>\n",
       "      <td>9.285063e-09</td>\n",
       "      <td>1.599254e-35</td>\n",
       "      <td>5.329816e-51</td>\n",
       "      <td>5.079253e-121</td>\n",
       "      <td>6.113150e-145</td>\n",
       "      <td>1.352312e-118</td>\n",
       "      <td>1.089714e-119</td>\n",
       "      <td>1.289355e-96</td>\n",
       "      <td>2.933385e-26</td>\n",
       "      <td>1.116779e-25</td>\n",
       "      <td>2.667280e-12</td>\n",
       "      <td>1.000000e+00</td>\n",
       "    </tr>\n",
       "    <tr>\n",
       "      <th>2009</th>\n",
       "      <td>1.000000</td>\n",
       "      <td>1.501309e-04</td>\n",
       "      <td>1.000000</td>\n",
       "      <td>1.000000</td>\n",
       "      <td>5.016403e-02</td>\n",
       "      <td>3.238005e-12</td>\n",
       "      <td>1.237117e-46</td>\n",
       "      <td>5.411792e-66</td>\n",
       "      <td>5.413810e-156</td>\n",
       "      <td>3.909817e-190</td>\n",
       "      <td>6.672553e-158</td>\n",
       "      <td>5.059060e-161</td>\n",
       "      <td>2.066541e-131</td>\n",
       "      <td>7.284147e-38</td>\n",
       "      <td>3.943693e-37</td>\n",
       "      <td>9.716741e-19</td>\n",
       "      <td>1.000000e+00</td>\n",
       "    </tr>\n",
       "    <tr>\n",
       "      <th>2010</th>\n",
       "      <td>0.016893</td>\n",
       "      <td>3.148783e-13</td>\n",
       "      <td>0.600324</td>\n",
       "      <td>0.050164</td>\n",
       "      <td>1.000000e+00</td>\n",
       "      <td>9.036406e-03</td>\n",
       "      <td>1.137887e-26</td>\n",
       "      <td>1.181503e-42</td>\n",
       "      <td>1.287683e-122</td>\n",
       "      <td>5.480340e-154</td>\n",
       "      <td>4.753052e-123</td>\n",
       "      <td>1.388006e-125</td>\n",
       "      <td>9.509233e-98</td>\n",
       "      <td>2.210573e-17</td>\n",
       "      <td>8.403527e-17</td>\n",
       "      <td>1.329568e-04</td>\n",
       "      <td>3.626699e-01</td>\n",
       "    </tr>\n",
       "  </tbody>\n",
       "</table>\n",
       "</div>"
      ],
      "text/plain": [
       "          2006          2007      2008      2009          2010          2011  \\\n",
       "2006  1.000000  1.000000e+00  1.000000  1.000000  1.689285e-02  2.104593e-08   \n",
       "2007  1.000000  1.000000e+00  0.000074  0.000150  3.148783e-13  8.834095e-28   \n",
       "2008  1.000000  7.370688e-05  1.000000  1.000000  6.003238e-01  9.285063e-09   \n",
       "2009  1.000000  1.501309e-04  1.000000  1.000000  5.016403e-02  3.238005e-12   \n",
       "2010  0.016893  3.148783e-13  0.600324  0.050164  1.000000e+00  9.036406e-03   \n",
       "\n",
       "              2012          2013           2014           2015           2016  \\\n",
       "2006  4.285762e-24  1.096488e-32   3.608950e-67   4.908252e-76   1.690736e-62   \n",
       "2007  1.362835e-62  9.189356e-80  2.915717e-150  3.971919e-172  2.814051e-147   \n",
       "2008  1.599254e-35  5.329816e-51  5.079253e-121  6.113150e-145  1.352312e-118   \n",
       "2009  1.237117e-46  5.411792e-66  5.413810e-156  3.909817e-190  6.672553e-158   \n",
       "2010  1.137887e-26  1.181503e-42  1.287683e-122  5.480340e-154  4.753052e-123   \n",
       "\n",
       "               2017           2018          2019          2020          2021  \\\n",
       "2006   5.956452e-62   6.803701e-51  4.752244e-17  1.005767e-16  1.285247e-09   \n",
       "2007  4.707518e-148  3.647369e-126  2.009012e-53  9.229158e-53  9.878545e-36   \n",
       "2008  1.089714e-119   1.289355e-96  2.933385e-26  1.116779e-25  2.667280e-12   \n",
       "2009  5.059060e-161  2.066541e-131  7.284147e-38  3.943693e-37  9.716741e-19   \n",
       "2010  1.388006e-125   9.509233e-98  2.210573e-17  8.403527e-17  1.329568e-04   \n",
       "\n",
       "              2022  \n",
       "2006  8.841096e-01  \n",
       "2007  1.799454e-11  \n",
       "2008  1.000000e+00  \n",
       "2009  1.000000e+00  \n",
       "2010  3.626699e-01  "
      ]
     },
     "execution_count": 55,
     "metadata": {},
     "output_type": "execute_result"
    }
   ],
   "source": [
    "dunn = sp.posthoc_dunn(df[(df['year'] > 2005) & (df['year'] < 2023)], 'rating', 'year', 'bonferroni')\n",
    "dunn.head(5)"
   ]
  },
  {
   "cell_type": "markdown",
   "id": "eb0feb45-e240-4829-b1ee-9ce94eb94577",
   "metadata": {},
   "source": [
    "Filtering the tests to check for difference in ratings between preceeding and suceeding years:"
   ]
  },
  {
   "cell_type": "code",
   "execution_count": 56,
   "id": "676fdb07-f609-4ff0-a59f-68190a06f749",
   "metadata": {},
   "outputs": [
    {
     "name": "stdout",
     "output_type": "stream",
     "text": [
      "group_1: 2006  group_2: 2007  reject_null?: False\n",
      " group_1: 2007  group_2: 2008  reject_null?: True\n",
      " group_1: 2008  group_2: 2009  reject_null?: False\n",
      " group_1: 2009  group_2: 2010  reject_null?: False\n",
      " group_1: 2010  group_2: 2011  reject_null?: True\n",
      " group_1: 2011  group_2: 2012  reject_null?: True\n",
      " group_1: 2012  group_2: 2013  reject_null?: True\n",
      " group_1: 2013  group_2: 2014  reject_null?: True\n",
      " group_1: 2014  group_2: 2015  reject_null?: False\n",
      " group_1: 2015  group_2: 2016  reject_null?: True\n",
      " group_1: 2016  group_2: 2017  reject_null?: False\n",
      " group_1: 2017  group_2: 2018  reject_null?: True\n",
      " group_1: 2018  group_2: 2019  reject_null?: True\n",
      " group_1: 2019  group_2: 2020  reject_null?: False\n",
      " group_1: 2020  group_2: 2021  reject_null?: True\n",
      " group_1: 2021  group_2: 2022  reject_null?: True\n",
      "\n"
     ]
    }
   ],
   "source": [
    "print(*[f'group_1: {year}  group_2: {year+1}  reject_null?: {value}\\n'\n",
    "        for year, value in zip(dunn.index[:-1], np.diag(dunn, k=1) < 0.05)])"
   ]
  },
  {
   "cell_type": "markdown",
   "id": "2d8f269d-880a-4254-b869-6ff054e38f9f",
   "metadata": {},
   "source": [
    "Based on our sample and our p-value:\n",
    "- For years 2008, 2011, 2012, 2013, 2014, 2016, 2018, 2019, 2021, 2022, we reject the null hypothesis. In this case, we conclude that there are significant differences between the population rating distributions for these years when compared to the previous year.\n",
    "- For years 2007, 2009, 2010, 2015, 2017, 2020 we dont reject the null hypothesis. In this case, we conclude that there are no significant differences between the population rating distributions for these years when compared to the previous year.\n",
    "\n",
    "However, it must be noted that the assumption of a simple random sample for this test is violated since the data was not sampled at random."
   ]
  },
  {
   "cell_type": "markdown",
   "id": "26cb76a5-b938-4eba-9146-c90248cc7525",
   "metadata": {},
   "source": [
    "## Difference in Mean Ratings Before and After the COVID-19 Pandemic Lockdown Period."
   ]
  },
  {
   "cell_type": "markdown",
   "id": "af3dec16-cee3-4054-9108-f6128f0c6bcb",
   "metadata": {},
   "source": [
    "Is there a significant difference in mean ratings between the before and the after of COVID-19 lockdown. Since most countries implemented lockdowns from April to July of 2020, the cut-off point will be there. The mean rating of this period will be compared with that of the same period of the prior year.\\\n",
    "**Populations**: All podcasts(April 1st to July 1st years 2019 and 2021)."
   ]
  },
  {
   "cell_type": "code",
   "execution_count": 57,
   "id": "33af6bc4-806a-476d-b550-dde175b359c2",
   "metadata": {},
   "outputs": [],
   "source": [
    "ratings_april_july_2019 = df['rating'][(df['created_at'] > '2019-04-01') & (df['created_at'] < '2019-07-01')]\n",
    "ratings_april_july_2020 = df['rating'][(df['created_at'] > '2020-04-01') & (df['created_at'] < '2020-07-01')]"
   ]
  },
  {
   "cell_type": "markdown",
   "id": "463f8b78-f037-4fca-a9f8-62ac6b8fd460",
   "metadata": {},
   "source": [
    "### Assumptions for the Mean Difference t-test"
   ]
  },
  {
   "cell_type": "code",
   "execution_count": 58,
   "id": "6e49ccae-565f-40fc-a844-c31b6efb70f8",
   "metadata": {},
   "outputs": [
    {
     "data": {
      "image/png": "[encoded data removed]",
      "text/plain": [
       "<Figure size 2000x800 with 2 Axes>"
      ]
     },
     "metadata": {},
     "output_type": "display_data"
    }
   ],
   "source": [
    "fig, axs = plt.subplots(2, 1, figsize=(20, 8))\n",
    "\n",
    "sm.qqplot(ratings_april_july_2019, line='45', ax=axs[0])\n",
    "axs[0].set_title('QQ Plot for podcasts ratings from April to July of year 2019')\n",
    "axs[0].spines[['top', 'right']].set_visible(False)\n",
    "axs[0].set_ylim(-5, 6)\n",
    "\n",
    "sm.qqplot(ratings_april_july_2020, line='45', ax=axs[1])\n",
    "axs[1].set_title('QQ Plot for podcasts ratings from April to July of year 2020')\n",
    "axs[1].spines[['top', 'right']].set_visible(False)\n",
    "axs[1].set_ylim(-5, 6)\n",
    "\n",
    "plt.tight_layout();"
   ]
  },
  {
   "cell_type": "markdown",
   "id": "62217198-0b97-4f95-803a-b01ba9041bcf",
   "metadata": {},
   "source": [
    "Both distributions are non-normal and heavily left-skewed. Since the sample size are large we should be able to rely on CLT."
   ]
  },
  {
   "cell_type": "markdown",
   "id": "26f4ab89-7978-4030-bedd-025b6569d6b1",
   "metadata": {},
   "source": [
    "- <div style=\"line-height:1;\">Independence - each group should be independent from the others. <span style=\"color:green; font-size:30px;\">&#10004;</span></div>\n",
    "- <div style=\"line-height:1;\">Sample Size - There should be a \"large enough\" sample size. <span style=\"color:green; font-size:30px;\">&#10004;</span></div>\n",
    "- <div style=\"line-height:2.7;\">Both populations should be approximately normally distributed(less critical with a larger sample size). <span style=\"color:red; font-size:15px;\">&#10060;</span></div>\n",
    "- <div style=\"line-height:1.4;\">Simple Random Sample. <span style=\"color:red; font-size:15px;\">&#10060;</span></div>"
   ]
  },
  {
   "cell_type": "markdown",
   "id": "14193f40-40b2-4d22-9b37-2b33231fb0d5",
   "metadata": {},
   "source": [
    "### Variance"
   ]
  },
  {
   "cell_type": "code",
   "execution_count": 59,
   "id": "2f737a53-a125-4d39-8ccb-78ae4952c260",
   "metadata": {},
   "outputs": [],
   "source": [
    "covid_df = pd.concat((pd.DataFrame(ratings_april_july_2019).assign(year = '2019'), \n",
    "          pd.DataFrame(ratings_april_july_2020).assign(year = '2020')), \n",
    "          ignore_index=True)\n",
    "assert len(covid_df) == len(ratings_april_july_2019) + len(ratings_april_july_2020)"
   ]
  },
  {
   "cell_type": "code",
   "execution_count": 60,
   "id": "74da4e0f-9c94-4b8b-89c2-f9b4c94d28bb",
   "metadata": {},
   "outputs": [
    {
     "data": {
      "image/png": "[encoded data removed]",
      "text/plain": [
       "<Figure size 2000x300 with 1 Axes>"
      ]
     },
     "metadata": {},
     "output_type": "display_data"
    }
   ],
   "source": [
    "sns.violinplot(data=covid_df, x=\"year\", y=\"rating\")\n",
    "plt.gcf().set_size_inches(20, 3)\n",
    "ax = plt.gca()\n",
    "ax.spines[['top','right']].set_visible(False)\n",
    "ax.set_title('Violin plots of podcast ratings (April-July years 2019 and 2020)')\n",
    "ax.set_ylim(1,6);"
   ]
  },
  {
   "cell_type": "code",
   "execution_count": 61,
   "id": "c0609589-69f3-403a-aa02-153cae425465",
   "metadata": {},
   "outputs": [
    {
     "data": {
      "text/plain": [
       "(1.0762316463342405, 1.1447646444792818)"
      ]
     },
     "execution_count": 61,
     "metadata": {},
     "output_type": "execute_result"
    }
   ],
   "source": [
    "np.power(ratings_april_july_2019.std(), 2), np.power(ratings_april_july_2020.std(), 2)"
   ]
  },
  {
   "cell_type": "markdown",
   "id": "0d273054-f721-4ad6-893a-32cabbb9640f",
   "metadata": {},
   "source": [
    "Both populations seem to have very similar variance, therefore will be assumed equal."
   ]
  },
  {
   "cell_type": "markdown",
   "id": "9e474032-6a4a-4ec0-8eb0-044613372271",
   "metadata": {},
   "source": [
    "$$\n",
    "H_0: \\mu_1 - \\mu_2 = 0\n",
    "$$\n",
    "$$\n",
    "H_a: \\mu_1 - \\mu_2 \\neq 0\n",
    "$$\n",
    "$$\n",
    "\\alpha = 0.05\n",
    "$$"
   ]
  },
  {
   "cell_type": "code",
   "execution_count": 62,
   "id": "55908ed6-25ee-4fcf-8b09-385141a1e491",
   "metadata": {},
   "outputs": [],
   "source": [
    "t_statistic, p_value = stats.ttest_ind(ratings_april_july_2019, ratings_april_july_2020, equal_var=True)"
   ]
  },
  {
   "cell_type": "code",
   "execution_count": 63,
   "id": "31a3ffc5-60a7-48a4-995c-132a95f052cf",
   "metadata": {},
   "outputs": [
    {
     "data": {
      "text/plain": [
       "(2.2631155191558836, 0.0236296673365553)"
      ]
     },
     "execution_count": 63,
     "metadata": {},
     "output_type": "execute_result"
    }
   ],
   "source": [
    "t_statistic, p_value"
   ]
  },
  {
   "cell_type": "markdown",
   "id": "1d89c77d-f8c1-41cd-aa7b-f85a93fd7141",
   "metadata": {},
   "source": [
    "Based on our sample and our p-value, we reject the null hypothesis. In this case, we conclude that there is a significant difference between the population mean rating difference for periods from April to July of years 2019 and 2020. However, it must be noted that the assumption of a simple random sample for this test is violated since the data was not sampled at random."
   ]
  },
  {
   "cell_type": "markdown",
   "id": "aa49b8b9-bdb1-421a-9577-35de55fac2f8",
   "metadata": {},
   "source": [
    "### Bootstrapped Significance Test"
   ]
  },
  {
   "cell_type": "markdown",
   "id": "20f52792-5835-4d68-afe3-d3390b6b3b4d",
   "metadata": {},
   "source": [
    "For the sake of robustness let's do a non-parametric test:"
   ]
  },
  {
   "cell_type": "code",
   "execution_count": 64,
   "id": "5d6a4e35-842b-4d5d-a0f8-2abf38679aa1",
   "metadata": {},
   "outputs": [],
   "source": [
    "result = stats.permutation_test((ratings_april_july_2019, ratings_april_july_2020),\n",
    "                       statistic=lambda x, y: np.mean(x) - np.mean(y), n_resamples=3000)"
   ]
  },
  {
   "cell_type": "code",
   "execution_count": 65,
   "id": "951ba4b5-bbd0-4275-81ef-40ca12a71008",
   "metadata": {},
   "outputs": [
    {
     "data": {
      "text/plain": [
       "0.01732755748083972"
      ]
     },
     "execution_count": 65,
     "metadata": {},
     "output_type": "execute_result"
    }
   ],
   "source": [
    "result.pvalue"
   ]
  },
  {
   "cell_type": "markdown",
   "id": "3bca7706-b143-4b7b-8cea-eb28ec60bfa5",
   "metadata": {},
   "source": [
    "The permutation test achieves a really close p-value to the parametric two sample t-test, which supports the rejection of the $H_0$."
   ]
  },
  {
   "cell_type": "markdown",
   "id": "c2f0b2c3-c1b5-4398-b877-ab2ffd6f145f",
   "metadata": {},
   "source": [
    "# Inference Considerations"
   ]
  },
  {
   "cell_type": "markdown",
   "id": "38015cf0-4483-4586-94c8-a0e4f91797c3",
   "metadata": {},
   "source": [
    "- Once again the data seems not to be sampled randomly, therefore the inference results likely do not represent the population well.\n",
    "- There were multiple tests run on various subsets of the sample, therefore there is an increased potential for p-hacked results."
   ]
  },
  {
   "cell_type": "markdown",
   "id": "65e3aeba-4562-4b61-9e9d-81212d14651b",
   "metadata": {},
   "source": [
    "# Suggestions for Further Research"
   ]
  },
  {
   "cell_type": "markdown",
   "id": "9714b118-8056-4a29-992d-7ba85f532e3b",
   "metadata": {},
   "source": [
    "- Potentially the alpha levels could be adjusted using some correction method(ex. Bonferronni correction) to account for multiple tests being run on the sample.\n",
    "- The text data should be explored further. The emotional tone of the message should be assesed utilizing sentiment analysis.\n",
    "- The data can be further explored in respect to important political events.(ex. US presidential elections)"
   ]
  }
 ],
 "metadata": {
  "kernelspec": {
   "display_name": "Python 3 (ipykernel)",
   "language": "python",
   "name": "python3"
  },
  "language_info": {
   "codemirror_mode": {
    "name": "ipython",
    "version": 3
   },
   "file_extension": ".py",
   "mimetype": "text/x-python",
   "name": "python",
   "nbconvert_exporter": "python",
   "pygments_lexer": "ipython3",
   "version": "3.11.4"
  }
 },
 "nbformat": 4,
 "nbformat_minor": 5
}
